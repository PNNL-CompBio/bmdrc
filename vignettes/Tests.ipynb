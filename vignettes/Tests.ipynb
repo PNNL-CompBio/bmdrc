{
 "cells": [
  {
   "cell_type": "code",
   "execution_count": 4,
   "metadata": {},
   "outputs": [],
   "source": [
    "from bmdrc.BinaryClass import BinaryClass\n",
    "import pandas as pd"
   ]
  },
  {
   "cell_type": "code",
   "execution_count": 3,
   "metadata": {},
   "outputs": [
    {
     "ename": "NameError",
     "evalue": "name 'pd' is not defined",
     "output_type": "error",
     "traceback": [
      "\u001b[0;31m---------------------------------------------------------------------------\u001b[0m",
      "\u001b[0;31mNameError\u001b[0m                                 Traceback (most recent call last)",
      "Cell \u001b[0;32mIn[3], line 2\u001b[0m\n\u001b[1;32m      1\u001b[0m BinaryClass(\n\u001b[0;32m----> 2\u001b[0m     df \u001b[38;5;241m=\u001b[39m \u001b[43mpd\u001b[49m\u001b[38;5;241m.\u001b[39mDataFrame(),\n\u001b[1;32m      3\u001b[0m     chemical \u001b[38;5;241m=\u001b[39m \u001b[38;5;124m\"\u001b[39m\u001b[38;5;124mchemical.id\u001b[39m\u001b[38;5;124m\"\u001b[39m, \u001b[38;5;66;03m# The name of the chemical column \u001b[39;00m\n\u001b[1;32m      4\u001b[0m     plate \u001b[38;5;241m=\u001b[39m \u001b[38;5;124m\"\u001b[39m\u001b[38;5;124mplate.id\u001b[39m\u001b[38;5;124m\"\u001b[39m, \u001b[38;5;66;03m# The name of the plate ID column\u001b[39;00m\n\u001b[1;32m      5\u001b[0m     well \u001b[38;5;241m=\u001b[39m \u001b[38;5;124m\"\u001b[39m\u001b[38;5;124mwell\u001b[39m\u001b[38;5;124m\"\u001b[39m, \u001b[38;5;66;03m# The name of the column with well names\u001b[39;00m\n\u001b[1;32m      6\u001b[0m     concentration \u001b[38;5;241m=\u001b[39m \u001b[38;5;124m\"\u001b[39m\u001b[38;5;124mconcentration\u001b[39m\u001b[38;5;124m\"\u001b[39m, \u001b[38;5;66;03m# The name of the concentration column\u001b[39;00m\n\u001b[1;32m      7\u001b[0m     endpoint \u001b[38;5;241m=\u001b[39m \u001b[38;5;124m\"\u001b[39m\u001b[38;5;124mendpoint\u001b[39m\u001b[38;5;124m\"\u001b[39m, \u001b[38;5;66;03m# The name of the column with endpoints\u001b[39;00m\n\u001b[1;32m      8\u001b[0m     value \u001b[38;5;241m=\u001b[39m \u001b[38;5;124m\"\u001b[39m\u001b[38;5;124mvalue\u001b[39m\u001b[38;5;124m\"\u001b[39m, \u001b[38;5;66;03m# The name of the column with values\u001b[39;00m\n\u001b[1;32m      9\u001b[0m     \u001b[38;5;28mformat\u001b[39m \u001b[38;5;241m=\u001b[39m \u001b[38;5;124m\"\u001b[39m\u001b[38;5;124mlong\u001b[39m\u001b[38;5;124m\"\u001b[39m \u001b[38;5;66;03m# The format of the input data, either 'long' or 'wide' is accepted\u001b[39;00m\n\u001b[1;32m     10\u001b[0m )\n",
      "\u001b[0;31mNameError\u001b[0m: name 'pd' is not defined"
     ]
    }
   ],
   "source": [
    "BinaryClass(\n",
    "    df = pd.DataFrame(),\n",
    "    chemical = \"chemical.id\", # The name of the chemical column \n",
    "    plate = \"plate.id\", # The name of the plate ID column\n",
    "    well = \"well\", # The name of the column with well names\n",
    "    concentration = \"concentration\", # The name of the concentration column\n",
    "    endpoint = \"endpoint\", # The name of the column with endpoints\n",
    "    value = \"value\", # The name of the column with values\n",
    "    format = \"long\" # The format of the input data, either 'long' or 'wide' is accepted\n",
    ")"
   ]
  }
 ],
 "metadata": {
  "kernelspec": {
   "display_name": "base",
   "language": "python",
   "name": "python3"
  },
  "language_info": {
   "codemirror_mode": {
    "name": "ipython",
    "version": 3
   },
   "file_extension": ".py",
   "mimetype": "text/x-python",
   "name": "python",
   "nbconvert_exporter": "python",
   "pygments_lexer": "ipython3",
   "version": "3.10.15"
  }
 },
 "nbformat": 4,
 "nbformat_minor": 2
}
