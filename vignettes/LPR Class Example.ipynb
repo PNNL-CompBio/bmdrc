{
 "cells": [
  {
   "cell_type": "markdown",
   "metadata": {},
   "source": [
    "## Package Description\n",
    "\n",
    "`bmdrc` is a python library for calculating **B**ench**m**ark **D**ose **R**esponse **C**urves for dichotomous (binary) and light photomotor (continuous converted to dichotomous) data. This \n",
    "tutorial will take users through the library using a light photomotor response (LPR - continuous convereted to binary response) example. `bmdrc` is broken up into five modules \n",
    "\n",
    "\n",
    "![five_modules](../bmdrc.png): \n",
    "\n",
    "\n",
    "1. *Input Data Module:* Import data into the python library\n",
    "\n",
    "2. *Pre-Processing Module:* Combine and remove endpoints as needed\n",
    "\n",
    "3. *Filtering Modules:* Apply the EPA recommendations for filtering \n",
    "\n",
    "4. *Model Fitting Modules:* Fit EPA-recommended models to data\n",
    "\n",
    "5. *Output Modules:* Select tables to output as csvs. View plots in a HTML report.\n",
    "\n",
    "First, install the package from pip using: \n",
    "\n",
    "`pip install bmdrc`\n",
    "\n",
    "Or from github using: \n",
    "\n",
    "`pip install git+https://github.com/PNNL-CompBio/bmdrc`\n",
    "\n",
    "## Data Types Description\n",
    "\n",
    "For datasets with plates and wells, use the `BinaryClass` object as it contains specific pre-processing and filtering functions that pertain to plates and well. Each value should be 0, 1, or NA, and `bmdrc` will calculate the response column. If your data does not contain plates and wells, use the `SimplifiedClass` object which only requires chemical, endpoint, concentration, and response information. The response must be between 0 and 1. If your data is light photomotor response use the `LPRClass` object. The continuous data will be transformed to dichotomous."
   ]
  },
  {
   "cell_type": "code",
   "execution_count": 1,
   "metadata": {},
   "outputs": [],
   "source": [
    "# Load locally installed libraries\n",
    "import bmdrc\n",
    "import pandas as pd"
   ]
  },
  {
   "cell_type": "markdown",
   "metadata": {},
   "source": [
    "## Module 1: Input Data Modules \n",
    "\n",
    "The first step to using the bmdrc python library is to properly format the data. For light photomotor response data, use the `LPRClass` object which can be imported using `from bmdrc.LPRClass import LPRClass`. Next, read the data as a pandas dataframe. \n",
    "\n",
    "Note that the following columns must exist and be specified in the following format: chemical identifier (chemical.id), concentration (conc), plate ID (plate.id), well name (well), time (variable, listed as \"t0\" for the first measurement, \"t1\" for the second, etc), and value (movement in mm). The data must be provided in long format, as wide format is not an acceptable format option for LPR data. "
   ]
  },
  {
   "cell_type": "code",
   "execution_count": 2,
   "metadata": {},
   "outputs": [
    {
     "data": {
      "application/vnd.microsoft.datawrangler.viewer.v0+json": {
       "columns": [
        {
         "name": "index",
         "rawType": "int64",
         "type": "integer"
        },
        {
         "name": "chemical.id",
         "rawType": "int64",
         "type": "integer"
        },
        {
         "name": "conc",
         "rawType": "float64",
         "type": "float"
        },
        {
         "name": "plate.id",
         "rawType": "int64",
         "type": "integer"
        },
        {
         "name": "well",
         "rawType": "object",
         "type": "string"
        },
        {
         "name": "variable",
         "rawType": "object",
         "type": "string"
        },
        {
         "name": "value",
         "rawType": "float64",
         "type": "float"
        }
       ],
       "ref": "b5d7d2ad-e087-4344-9bb4-da977e31405c",
       "rows": [
        [
         "0",
         "2",
         "0.0",
         "20544",
         "H01",
         "t0",
         "0.0"
        ],
        [
         "1",
         "2",
         "0.0",
         "20544",
         "H02",
         "t0",
         null
        ],
        [
         "2",
         "2",
         "0.0",
         "20544",
         "H03",
         "t0",
         null
        ],
        [
         "3",
         "2",
         "0.0",
         "20544",
         "H04",
         "t0",
         "1.08299994468689"
        ],
        [
         "4",
         "2",
         "0.0",
         "20544",
         "H05",
         "t0",
         "1.6080000400543202"
        ]
       ],
       "shape": {
        "columns": 6,
        "rows": 5
       }
      },
      "text/html": [
       "<div>\n",
       "<style scoped>\n",
       "    .dataframe tbody tr th:only-of-type {\n",
       "        vertical-align: middle;\n",
       "    }\n",
       "\n",
       "    .dataframe tbody tr th {\n",
       "        vertical-align: top;\n",
       "    }\n",
       "\n",
       "    .dataframe thead th {\n",
       "        text-align: right;\n",
       "    }\n",
       "</style>\n",
       "<table border=\"1\" class=\"dataframe\">\n",
       "  <thead>\n",
       "    <tr style=\"text-align: right;\">\n",
       "      <th></th>\n",
       "      <th>chemical.id</th>\n",
       "      <th>conc</th>\n",
       "      <th>plate.id</th>\n",
       "      <th>well</th>\n",
       "      <th>variable</th>\n",
       "      <th>value</th>\n",
       "    </tr>\n",
       "  </thead>\n",
       "  <tbody>\n",
       "    <tr>\n",
       "      <th>0</th>\n",
       "      <td>2</td>\n",
       "      <td>0.0</td>\n",
       "      <td>20544</td>\n",
       "      <td>H01</td>\n",
       "      <td>t0</td>\n",
       "      <td>0.000</td>\n",
       "    </tr>\n",
       "    <tr>\n",
       "      <th>1</th>\n",
       "      <td>2</td>\n",
       "      <td>0.0</td>\n",
       "      <td>20544</td>\n",
       "      <td>H02</td>\n",
       "      <td>t0</td>\n",
       "      <td>NaN</td>\n",
       "    </tr>\n",
       "    <tr>\n",
       "      <th>2</th>\n",
       "      <td>2</td>\n",
       "      <td>0.0</td>\n",
       "      <td>20544</td>\n",
       "      <td>H03</td>\n",
       "      <td>t0</td>\n",
       "      <td>NaN</td>\n",
       "    </tr>\n",
       "    <tr>\n",
       "      <th>3</th>\n",
       "      <td>2</td>\n",
       "      <td>0.0</td>\n",
       "      <td>20544</td>\n",
       "      <td>H04</td>\n",
       "      <td>t0</td>\n",
       "      <td>1.083</td>\n",
       "    </tr>\n",
       "    <tr>\n",
       "      <th>4</th>\n",
       "      <td>2</td>\n",
       "      <td>0.0</td>\n",
       "      <td>20544</td>\n",
       "      <td>H05</td>\n",
       "      <td>t0</td>\n",
       "      <td>1.608</td>\n",
       "    </tr>\n",
       "  </tbody>\n",
       "</table>\n",
       "</div>"
      ],
      "text/plain": [
       "   chemical.id  conc  plate.id well variable  value\n",
       "0            2   0.0     20544  H01       t0  0.000\n",
       "1            2   0.0     20544  H02       t0    NaN\n",
       "2            2   0.0     20544  H03       t0    NaN\n",
       "3            2   0.0     20544  H04       t0  1.083\n",
       "4            2   0.0     20544  H05       t0  1.608"
      ]
     },
     "execution_count": 2,
     "metadata": {},
     "output_type": "execute_result"
    }
   ],
   "source": [
    "pd.read_csv(\"../data/LPR_Long.csv\").head()"
   ]
  },
  {
   "cell_type": "markdown",
   "metadata": {},
   "source": [
    "The following information must be provided to calculate LPR cycles: the cycle_length, the cycle_cooldown, and the starting_cycle value. In this specific instance, cycles are measured in 6 second intervals, so a length of 20 represents 120 second or 2 minutes. Between 2 minute measurement times, there are 1 minute cooldowns. Here, we calculate the difference in the area under the curve (AUC) between dark and light cycles, so specifying whether the first cycle - the starting cycle - is a \"light\" or \"dark\" cycle is important. The other endpoint that is calculated for this data, besides AUC, is MOV, which is the difference in movement between transtion periods. Here we have an example where the cycle_length is 120 seconds (20 sets of 6 second intervals), cycel_cooldown is 60 seconds (10 sets of 6 second intervals), and the first measurement is a \"light\" cycle.\n",
    "\n",
    "![LPR_Image](./LPR_Example.png)"
   ]
  },
  {
   "cell_type": "code",
   "execution_count": 3,
   "metadata": {},
   "outputs": [
    {
     "name": "stdout",
     "output_type": "stream",
     "text": [
      "...defining cycles\n",
      "...calculating AUC values\n",
      "...calculating MOV values\n"
     ]
    }
   ],
   "source": [
    "from bmdrc.LPRClass import LPRClass\n",
    "\n",
    "# Convert the continuous data to dichotomous \n",
    "LPR = LPRClass(\n",
    "    df = pd.read_csv(\"../data/LPR_Long.csv\"),\n",
    "    chemical = \"chemical.id\",\n",
    "    plate = \"plate.id\",\n",
    "    well = \"well\",\n",
    "    concentration = \"conc\",\n",
    "    time = \"variable\",\n",
    "    value = \"value\",\n",
    "    cycle_length = 20.0,\n",
    "    cycle_cooldown = 10.0, \n",
    "    starting_cycle = \"light\"\n",
    ")"
   ]
  },
  {
   "cell_type": "code",
   "execution_count": 4,
   "metadata": {},
   "outputs": [
    {
     "data": {
      "application/vnd.microsoft.datawrangler.viewer.v0+json": {
       "columns": [
        {
         "name": "index",
         "rawType": "int64",
         "type": "integer"
        },
        {
         "name": "chemical.id",
         "rawType": "int64",
         "type": "integer"
        },
        {
         "name": "conc",
         "rawType": "float64",
         "type": "float"
        },
        {
         "name": "plate.id",
         "rawType": "int64",
         "type": "integer"
        },
        {
         "name": "well",
         "rawType": "object",
         "type": "string"
        },
        {
         "name": "endpoint",
         "rawType": "object",
         "type": "string"
        },
        {
         "name": "value",
         "rawType": "float64",
         "type": "float"
        }
       ],
       "ref": "ec8e8634-2a99-438a-ba52-54c77ea6606d",
       "rows": [
        [
         "0",
         "2",
         "0.0",
         "20544",
         "H01",
         "AUC1",
         "0.0"
        ],
        [
         "1",
         "2",
         "0.0",
         "20544",
         "H02",
         "AUC1",
         "0.0"
        ],
        [
         "2",
         "2",
         "0.0",
         "20544",
         "H03",
         "AUC1",
         "0.0"
        ],
        [
         "3",
         "2",
         "0.0",
         "20544",
         "H04",
         "AUC1",
         "0.0"
        ],
        [
         "4",
         "2",
         "0.0",
         "20544",
         "H05",
         "AUC1",
         "1.0"
        ]
       ],
       "shape": {
        "columns": 6,
        "rows": 5
       }
      },
      "text/html": [
       "<div>\n",
       "<style scoped>\n",
       "    .dataframe tbody tr th:only-of-type {\n",
       "        vertical-align: middle;\n",
       "    }\n",
       "\n",
       "    .dataframe tbody tr th {\n",
       "        vertical-align: top;\n",
       "    }\n",
       "\n",
       "    .dataframe thead th {\n",
       "        text-align: right;\n",
       "    }\n",
       "</style>\n",
       "<table border=\"1\" class=\"dataframe\">\n",
       "  <thead>\n",
       "    <tr style=\"text-align: right;\">\n",
       "      <th></th>\n",
       "      <th>chemical.id</th>\n",
       "      <th>conc</th>\n",
       "      <th>plate.id</th>\n",
       "      <th>well</th>\n",
       "      <th>endpoint</th>\n",
       "      <th>value</th>\n",
       "    </tr>\n",
       "  </thead>\n",
       "  <tbody>\n",
       "    <tr>\n",
       "      <th>0</th>\n",
       "      <td>2</td>\n",
       "      <td>0.0</td>\n",
       "      <td>20544</td>\n",
       "      <td>H01</td>\n",
       "      <td>AUC1</td>\n",
       "      <td>0.0</td>\n",
       "    </tr>\n",
       "    <tr>\n",
       "      <th>1</th>\n",
       "      <td>2</td>\n",
       "      <td>0.0</td>\n",
       "      <td>20544</td>\n",
       "      <td>H02</td>\n",
       "      <td>AUC1</td>\n",
       "      <td>0.0</td>\n",
       "    </tr>\n",
       "    <tr>\n",
       "      <th>2</th>\n",
       "      <td>2</td>\n",
       "      <td>0.0</td>\n",
       "      <td>20544</td>\n",
       "      <td>H03</td>\n",
       "      <td>AUC1</td>\n",
       "      <td>0.0</td>\n",
       "    </tr>\n",
       "    <tr>\n",
       "      <th>3</th>\n",
       "      <td>2</td>\n",
       "      <td>0.0</td>\n",
       "      <td>20544</td>\n",
       "      <td>H04</td>\n",
       "      <td>AUC1</td>\n",
       "      <td>0.0</td>\n",
       "    </tr>\n",
       "    <tr>\n",
       "      <th>4</th>\n",
       "      <td>2</td>\n",
       "      <td>0.0</td>\n",
       "      <td>20544</td>\n",
       "      <td>H05</td>\n",
       "      <td>AUC1</td>\n",
       "      <td>1.0</td>\n",
       "    </tr>\n",
       "  </tbody>\n",
       "</table>\n",
       "</div>"
      ],
      "text/plain": [
       "   chemical.id  conc  plate.id well endpoint  value\n",
       "0            2   0.0     20544  H01     AUC1    0.0\n",
       "1            2   0.0     20544  H02     AUC1    0.0\n",
       "2            2   0.0     20544  H03     AUC1    0.0\n",
       "3            2   0.0     20544  H04     AUC1    0.0\n",
       "4            2   0.0     20544  H05     AUC1    1.0"
      ]
     },
     "execution_count": 4,
     "metadata": {},
     "output_type": "execute_result"
    }
   ],
   "source": [
    "# Here we can see the dichotomous data, which follows the same format as we've seen for the morphological example in the \"Binary Class Example\" jupyter notebook\n",
    "LPR.df.head()"
   ]
  },
  {
   "cell_type": "markdown",
   "metadata": {},
   "source": [
    "## Module 2: Pre-Processing Modules\n",
    "\n",
    "For a full example of all functions is available in the \"Binary Class Example\" notebook. Here we will cover a few functions that are relevant for LPR data.\n",
    "\n",
    "### LPR Class: Combine Endpoints"
   ]
  },
  {
   "cell_type": "code",
   "execution_count": 5,
   "metadata": {},
   "outputs": [],
   "source": [
    "LPR.combine_and_create_new_endpoints({\"ANY_MOV\": [\"MOV1\", \"MOV2\", \"MOV3\", \"MOV4\"],\n",
    "                                      \"ANY_AUC\": [\"AUC1\", \"AUC2\", \"AUC3\", \"AUC4\"]})"
   ]
  },
  {
   "cell_type": "markdown",
   "metadata": {},
   "source": [
    "## Module 3: Filtering Modules\n",
    "\n",
    "For a full example of all functions is available in the \"Binary Class Example\" notebook. Here we will cover a few functions that are relevant for LPR data.\n",
    "\n",
    "### Negative Control Filter"
   ]
  },
  {
   "cell_type": "code",
   "execution_count": 6,
   "metadata": {},
   "outputs": [
    {
     "data": {
      "image/png": "[encoded data removed]",
      "text/plain": [
       "<Figure size 1000x500 with 1 Axes>"
      ]
     },
     "metadata": {},
     "output_type": "display_data"
    }
   ],
   "source": [
    "LPR.filter_negative_control(percentage = 50, apply = True, diagnostic_plot = True)"
   ]
  },
  {
   "cell_type": "markdown",
   "metadata": {},
   "source": [
    "### Minimum Concentration Filter"
   ]
  },
  {
   "cell_type": "code",
   "execution_count": 7,
   "metadata": {},
   "outputs": [
    {
     "data": {
      "image/png": "[encoded data removed]",
      "text/plain": [
       "<Figure size 1000x500 with 1 Axes>"
      ]
     },
     "metadata": {},
     "output_type": "display_data"
    }
   ],
   "source": [
    "LPR.filter_min_concentration(count = 3, apply = True, diagnostic_plot = True)"
   ]
  },
  {
   "cell_type": "markdown",
   "metadata": {},
   "source": [
    "### Correlation Score Filter"
   ]
  },
  {
   "cell_type": "code",
   "execution_count": 8,
   "metadata": {},
   "outputs": [],
   "source": [
    "LPR.filter_correlation_score(score = 0.2, diagnostic_plot = True, apply = True)"
   ]
  },
  {
   "cell_type": "markdown",
   "metadata": {},
   "source": [
    "### Review what is kept\n",
    "\n",
    "Following EPA recommendations of filtering, only two endpoint and chemical combinations are considered for model fitting. "
   ]
  },
  {
   "cell_type": "code",
   "execution_count": 9,
   "metadata": {},
   "outputs": [
    {
     "data": {
      "text/plain": [
       "array(['ANY_AUC', 'ANY_MOV', 'AUC1', 'AUC2', 'AUC3', 'AUC4', 'MOV1',\n",
       "       'MOV2', 'MOV3', 'MOV4'], dtype=object)"
      ]
     },
     "execution_count": 9,
     "metadata": {},
     "output_type": "execute_result"
    }
   ],
   "source": [
    "# See summary statistics as well as benchmark dose calculations \n",
    "LPR.plate_groups[LPR.plate_groups[\"bmdrc.filter\"] == \"Keep\"][\"endpoint\"].unique()"
   ]
  },
  {
   "cell_type": "markdown",
   "metadata": {},
   "source": [
    "## Module 4: Fit Models\n",
    "\n",
    "All 7 EPA recommended models, including one additional model (Quantal Linear) are fit to the curve. The best fit is then selected in this order:\n",
    "\n",
    "1. If the goodness-of-fit (GOF) is over the threshold (default of 0.1)\n",
    "\n",
    "2. The lowest Akaike Information Criterion (AIC) within 2\n",
    "\n",
    "3. If necessary, the lowest BMDL value \n",
    "\n",
    "The 7 recommended models are: Logistic, Log-Logistic, Probit, Log-Probit, Weibull, Gamma, and Multistage 2"
   ]
  },
  {
   "cell_type": "code",
   "execution_count": 10,
   "metadata": {},
   "outputs": [],
   "source": [
    "# Set the model fits to the recommended GOF and AIC thresholds. Any models within the AIC threshold (within 2 of the lowest score, by default), are then decided by the model_selection method. \n",
    "# Currently, only \"lowest BMDL\" is supported. \n",
    "LPR.fit_models(gof_threshold = 0.1, aic_threshold = 2, model_selection = \"lowest BMDL\")"
   ]
  },
  {
   "cell_type": "code",
   "execution_count": 11,
   "metadata": {},
   "outputs": [
    {
     "data": {
      "image/png": "[encoded data removed]",
      "text/plain": [
       "<Figure size 1000x500 with 1 Axes>"
      ]
     },
     "execution_count": 11,
     "metadata": {},
     "output_type": "execute_result"
    }
   ],
   "source": [
    "# Visualize the best fitting curve\n",
    "LPR.response_curve(chemical_name = 2, endpoint_name = \"AUC4\", model = \"log probit\")\n",
    "LPR._2_AUC4_log_probit_curve_plot"
   ]
  },
  {
   "cell_type": "markdown",
   "metadata": {},
   "source": [
    "## Module 5: Output Modules\n",
    "\n",
    "### Benchmark Dose\n",
    "\n",
    "Build reports with the `.report()` function. See the \"example_report\" folder for an example. Otherwise, output a benchmark dose table with the function `.output_benchmark_dose()` and see the results with `.output_res_benchmark_dose`\n"
   ]
  },
  {
   "cell_type": "code",
   "execution_count": 12,
   "metadata": {},
   "outputs": [
    {
     "data": {
      "application/vnd.microsoft.datawrangler.viewer.v0+json": {
       "columns": [
        {
         "name": "index",
         "rawType": "int64",
         "type": "integer"
        },
        {
         "name": "Chemical_ID",
         "rawType": "object",
         "type": "string"
        },
        {
         "name": "End_Point",
         "rawType": "object",
         "type": "string"
        },
        {
         "name": "Model",
         "rawType": "object",
         "type": "string"
        },
        {
         "name": "BMD10",
         "rawType": "float64",
         "type": "float"
        },
        {
         "name": "BMDL",
         "rawType": "float64",
         "type": "float"
        },
        {
         "name": "BMD50",
         "rawType": "float64",
         "type": "float"
        },
        {
         "name": "AUC",
         "rawType": "float64",
         "type": "float"
        },
        {
         "name": "Min_Dose",
         "rawType": "float64",
         "type": "float"
        },
        {
         "name": "Max_Dose",
         "rawType": "float64",
         "type": "float"
        },
        {
         "name": "AUC_Norm",
         "rawType": "float64",
         "type": "float"
        },
        {
         "name": "DataQC_Flag",
         "rawType": "int64",
         "type": "integer"
        },
        {
         "name": "BMD_Analysis_Flag",
         "rawType": "int64",
         "type": "integer"
        },
        {
         "name": "BMD10_Flag",
         "rawType": "int64",
         "type": "integer"
        },
        {
         "name": "BMD50_Flag",
         "rawType": "int64",
         "type": "integer"
        },
        {
         "name": "bmdrc.Endpoint.ID",
         "rawType": "object",
         "type": "string"
        }
       ],
       "ref": "9798d53c-a021-4e2b-aef4-ff6df35f58a8",
       "rows": [
        [
         "0",
         "2",
         "ANY_AUC",
         "Quantal Linear",
         "43.03531379901867",
         "21.746308270737636",
         "283.12130249228244",
         "30.662499999999998",
         "0.0",
         "100.0",
         "0.306625",
         "2",
         "1",
         "1",
         "0",
         "2 ANY_AUC"
        ],
        [
         "1",
         "2",
         "ANY_MOV",
         "Quantal Linear",
         "43.61451340662905",
         "21.947944388467135",
         "286.93174867783836",
         "43.535833333333336",
         "0.0",
         "100.0",
         "0.43535833333333335",
         "2",
         "1",
         "1",
         "0",
         "2 ANY_MOV"
        ],
        [
         "2",
         "2",
         "AUC1",
         "Quantal Linear",
         "31.78673416715112",
         "20.011925959719157",
         "209.11899519099074",
         "26.16",
         "0.0",
         "100.0",
         "0.2616",
         "2",
         "1",
         "1",
         "0",
         "2 AUC1"
        ],
        [
         "3",
         "2",
         "AUC2",
         "Gamma",
         "58.93125073670478",
         "6.038798636587748",
         "1637.3346166031909",
         "11.751666666666667",
         "0.0",
         "100.0",
         "0.11751666666666667",
         "2",
         "1",
         "1",
         "0",
         "2 AUC2"
        ],
        [
         "4",
         "2",
         "AUC3",
         "Quantal Linear",
         "97.08088706377957",
         "39.822480327730915",
         "638.6770483646433",
         "11.433333333333334",
         "0.0",
         "100.0",
         "0.11433333333333334",
         "2",
         "1",
         "1",
         "0",
         "2 AUC3"
        ],
        [
         "5",
         "2",
         "AUC4",
         "Log Probit",
         "7.735566780342209",
         null,
         "17014.593969312806",
         "11.158333333333333",
         "0.0",
         "100.0",
         "0.11158333333333333",
         "2",
         "1",
         "1",
         "0",
         "2 AUC4"
        ],
        [
         "7",
         "2",
         "MOV2",
         "Gamma",
         "93.24907482564797",
         "22.17169774724086",
         "145.78787063488244",
         "9.245",
         "0.0",
         "100.0",
         "0.09244999999999999",
         "2",
         "1",
         "1",
         "0",
         "2 MOV2"
        ],
        [
         "9",
         "2",
         "MOV4",
         "Gamma",
         "1.182246148570585",
         "0.21752203459875663",
         "2502.230056317307",
         "32.0925",
         "0.0",
         "100.0",
         "0.320925",
         "2",
         "1",
         "1",
         "0",
         "2 MOV4"
        ],
        [
         "6",
         "2",
         "MOV1",
         "Quantal Linear",
         "188.64627431874737",
         "60.9473464264786",
         "1241.0686522438712",
         "11.9575",
         "0.0",
         "100.0",
         "0.119575",
         "2",
         "0",
         "0",
         "0",
         "2 MOV1"
        ],
        [
         "8",
         "2",
         "MOV3",
         "Quantal Linear",
         "141.4218601278432",
         "63.03928615918991",
         "930.3880396287332",
         "9.411666666666665",
         "0.0",
         "100.0",
         "0.09411666666666665",
         "4",
         "0",
         "0",
         "0",
         "2 MOV3"
        ]
       ],
       "shape": {
        "columns": 15,
        "rows": 10
       }
      },
      "text/html": [
       "<div>\n",
       "<style scoped>\n",
       "    .dataframe tbody tr th:only-of-type {\n",
       "        vertical-align: middle;\n",
       "    }\n",
       "\n",
       "    .dataframe tbody tr th {\n",
       "        vertical-align: top;\n",
       "    }\n",
       "\n",
       "    .dataframe thead th {\n",
       "        text-align: right;\n",
       "    }\n",
       "</style>\n",
       "<table border=\"1\" class=\"dataframe\">\n",
       "  <thead>\n",
       "    <tr style=\"text-align: right;\">\n",
       "      <th></th>\n",
       "      <th>Chemical_ID</th>\n",
       "      <th>End_Point</th>\n",
       "      <th>Model</th>\n",
       "      <th>BMD10</th>\n",
       "      <th>BMDL</th>\n",
       "      <th>BMD50</th>\n",
       "      <th>AUC</th>\n",
       "      <th>Min_Dose</th>\n",
       "      <th>Max_Dose</th>\n",
       "      <th>AUC_Norm</th>\n",
       "      <th>DataQC_Flag</th>\n",
       "      <th>BMD_Analysis_Flag</th>\n",
       "      <th>BMD10_Flag</th>\n",
       "      <th>BMD50_Flag</th>\n",
       "      <th>bmdrc.Endpoint.ID</th>\n",
       "    </tr>\n",
       "  </thead>\n",
       "  <tbody>\n",
       "    <tr>\n",
       "      <th>0</th>\n",
       "      <td>2</td>\n",
       "      <td>ANY_AUC</td>\n",
       "      <td>Quantal Linear</td>\n",
       "      <td>43.035314</td>\n",
       "      <td>21.746308</td>\n",
       "      <td>283.121302</td>\n",
       "      <td>30.662500</td>\n",
       "      <td>0.0</td>\n",
       "      <td>100.0</td>\n",
       "      <td>0.306625</td>\n",
       "      <td>2</td>\n",
       "      <td>1</td>\n",
       "      <td>1</td>\n",
       "      <td>0</td>\n",
       "      <td>2 ANY_AUC</td>\n",
       "    </tr>\n",
       "    <tr>\n",
       "      <th>1</th>\n",
       "      <td>2</td>\n",
       "      <td>ANY_MOV</td>\n",
       "      <td>Quantal Linear</td>\n",
       "      <td>43.614513</td>\n",
       "      <td>21.947944</td>\n",
       "      <td>286.931749</td>\n",
       "      <td>43.535833</td>\n",
       "      <td>0.0</td>\n",
       "      <td>100.0</td>\n",
       "      <td>0.435358</td>\n",
       "      <td>2</td>\n",
       "      <td>1</td>\n",
       "      <td>1</td>\n",
       "      <td>0</td>\n",
       "      <td>2 ANY_MOV</td>\n",
       "    </tr>\n",
       "    <tr>\n",
       "      <th>2</th>\n",
       "      <td>2</td>\n",
       "      <td>AUC1</td>\n",
       "      <td>Quantal Linear</td>\n",
       "      <td>31.786734</td>\n",
       "      <td>20.011926</td>\n",
       "      <td>209.118995</td>\n",
       "      <td>26.160000</td>\n",
       "      <td>0.0</td>\n",
       "      <td>100.0</td>\n",
       "      <td>0.261600</td>\n",
       "      <td>2</td>\n",
       "      <td>1</td>\n",
       "      <td>1</td>\n",
       "      <td>0</td>\n",
       "      <td>2 AUC1</td>\n",
       "    </tr>\n",
       "    <tr>\n",
       "      <th>3</th>\n",
       "      <td>2</td>\n",
       "      <td>AUC2</td>\n",
       "      <td>Gamma</td>\n",
       "      <td>58.931251</td>\n",
       "      <td>6.038799</td>\n",
       "      <td>1637.334617</td>\n",
       "      <td>11.751667</td>\n",
       "      <td>0.0</td>\n",
       "      <td>100.0</td>\n",
       "      <td>0.117517</td>\n",
       "      <td>2</td>\n",
       "      <td>1</td>\n",
       "      <td>1</td>\n",
       "      <td>0</td>\n",
       "      <td>2 AUC2</td>\n",
       "    </tr>\n",
       "    <tr>\n",
       "      <th>4</th>\n",
       "      <td>2</td>\n",
       "      <td>AUC3</td>\n",
       "      <td>Quantal Linear</td>\n",
       "      <td>97.080887</td>\n",
       "      <td>39.822480</td>\n",
       "      <td>638.677048</td>\n",
       "      <td>11.433333</td>\n",
       "      <td>0.0</td>\n",
       "      <td>100.0</td>\n",
       "      <td>0.114333</td>\n",
       "      <td>2</td>\n",
       "      <td>1</td>\n",
       "      <td>1</td>\n",
       "      <td>0</td>\n",
       "      <td>2 AUC3</td>\n",
       "    </tr>\n",
       "    <tr>\n",
       "      <th>5</th>\n",
       "      <td>2</td>\n",
       "      <td>AUC4</td>\n",
       "      <td>Log Probit</td>\n",
       "      <td>7.735567</td>\n",
       "      <td>NaN</td>\n",
       "      <td>17014.593969</td>\n",
       "      <td>11.158333</td>\n",
       "      <td>0.0</td>\n",
       "      <td>100.0</td>\n",
       "      <td>0.111583</td>\n",
       "      <td>2</td>\n",
       "      <td>1</td>\n",
       "      <td>1</td>\n",
       "      <td>0</td>\n",
       "      <td>2 AUC4</td>\n",
       "    </tr>\n",
       "    <tr>\n",
       "      <th>7</th>\n",
       "      <td>2</td>\n",
       "      <td>MOV2</td>\n",
       "      <td>Gamma</td>\n",
       "      <td>93.249075</td>\n",
       "      <td>22.171698</td>\n",
       "      <td>145.787871</td>\n",
       "      <td>9.245000</td>\n",
       "      <td>0.0</td>\n",
       "      <td>100.0</td>\n",
       "      <td>0.092450</td>\n",
       "      <td>2</td>\n",
       "      <td>1</td>\n",
       "      <td>1</td>\n",
       "      <td>0</td>\n",
       "      <td>2 MOV2</td>\n",
       "    </tr>\n",
       "    <tr>\n",
       "      <th>9</th>\n",
       "      <td>2</td>\n",
       "      <td>MOV4</td>\n",
       "      <td>Gamma</td>\n",
       "      <td>1.182246</td>\n",
       "      <td>0.217522</td>\n",
       "      <td>2502.230056</td>\n",
       "      <td>32.092500</td>\n",
       "      <td>0.0</td>\n",
       "      <td>100.0</td>\n",
       "      <td>0.320925</td>\n",
       "      <td>2</td>\n",
       "      <td>1</td>\n",
       "      <td>1</td>\n",
       "      <td>0</td>\n",
       "      <td>2 MOV4</td>\n",
       "    </tr>\n",
       "    <tr>\n",
       "      <th>6</th>\n",
       "      <td>2</td>\n",
       "      <td>MOV1</td>\n",
       "      <td>Quantal Linear</td>\n",
       "      <td>188.646274</td>\n",
       "      <td>60.947346</td>\n",
       "      <td>1241.068652</td>\n",
       "      <td>11.957500</td>\n",
       "      <td>0.0</td>\n",
       "      <td>100.0</td>\n",
       "      <td>0.119575</td>\n",
       "      <td>2</td>\n",
       "      <td>0</td>\n",
       "      <td>0</td>\n",
       "      <td>0</td>\n",
       "      <td>2 MOV1</td>\n",
       "    </tr>\n",
       "    <tr>\n",
       "      <th>8</th>\n",
       "      <td>2</td>\n",
       "      <td>MOV3</td>\n",
       "      <td>Quantal Linear</td>\n",
       "      <td>141.421860</td>\n",
       "      <td>63.039286</td>\n",
       "      <td>930.388040</td>\n",
       "      <td>9.411667</td>\n",
       "      <td>0.0</td>\n",
       "      <td>100.0</td>\n",
       "      <td>0.094117</td>\n",
       "      <td>4</td>\n",
       "      <td>0</td>\n",
       "      <td>0</td>\n",
       "      <td>0</td>\n",
       "      <td>2 MOV3</td>\n",
       "    </tr>\n",
       "  </tbody>\n",
       "</table>\n",
       "</div>"
      ],
      "text/plain": [
       "  Chemical_ID End_Point           Model       BMD10       BMDL         BMD50  \\\n",
       "0           2   ANY_AUC  Quantal Linear   43.035314  21.746308    283.121302   \n",
       "1           2   ANY_MOV  Quantal Linear   43.614513  21.947944    286.931749   \n",
       "2           2      AUC1  Quantal Linear   31.786734  20.011926    209.118995   \n",
       "3           2      AUC2           Gamma   58.931251   6.038799   1637.334617   \n",
       "4           2      AUC3  Quantal Linear   97.080887  39.822480    638.677048   \n",
       "5           2      AUC4      Log Probit    7.735567        NaN  17014.593969   \n",
       "7           2      MOV2           Gamma   93.249075  22.171698    145.787871   \n",
       "9           2      MOV4           Gamma    1.182246   0.217522   2502.230056   \n",
       "6           2      MOV1  Quantal Linear  188.646274  60.947346   1241.068652   \n",
       "8           2      MOV3  Quantal Linear  141.421860  63.039286    930.388040   \n",
       "\n",
       "         AUC  Min_Dose  Max_Dose  AUC_Norm  DataQC_Flag  BMD_Analysis_Flag  \\\n",
       "0  30.662500       0.0     100.0  0.306625            2                  1   \n",
       "1  43.535833       0.0     100.0  0.435358            2                  1   \n",
       "2  26.160000       0.0     100.0  0.261600            2                  1   \n",
       "3  11.751667       0.0     100.0  0.117517            2                  1   \n",
       "4  11.433333       0.0     100.0  0.114333            2                  1   \n",
       "5  11.158333       0.0     100.0  0.111583            2                  1   \n",
       "7   9.245000       0.0     100.0  0.092450            2                  1   \n",
       "9  32.092500       0.0     100.0  0.320925            2                  1   \n",
       "6  11.957500       0.0     100.0  0.119575            2                  0   \n",
       "8   9.411667       0.0     100.0  0.094117            4                  0   \n",
       "\n",
       "   BMD10_Flag  BMD50_Flag bmdrc.Endpoint.ID  \n",
       "0           1           0         2 ANY_AUC  \n",
       "1           1           0         2 ANY_MOV  \n",
       "2           1           0            2 AUC1  \n",
       "3           1           0            2 AUC2  \n",
       "4           1           0            2 AUC3  \n",
       "5           1           0            2 AUC4  \n",
       "7           1           0            2 MOV2  \n",
       "9           1           0            2 MOV4  \n",
       "6           0           0            2 MOV1  \n",
       "8           0           0            2 MOV3  "
      ]
     },
     "execution_count": 12,
     "metadata": {},
     "output_type": "execute_result"
    }
   ],
   "source": [
    "LPR.output_benchmark_dose()\n",
    "LPR.output_res_benchmark_dose"
   ]
  },
  {
   "cell_type": "markdown",
   "metadata": {},
   "source": [
    "### Dose\n",
    "\n",
    "Similarly, see the dosage information with `.output_dose_table()` and see the actual table under `.output_res_dose_table`"
   ]
  },
  {
   "cell_type": "code",
   "execution_count": 13,
   "metadata": {},
   "outputs": [
    {
     "data": {
      "application/vnd.microsoft.datawrangler.viewer.v0+json": {
       "columns": [
        {
         "name": "index",
         "rawType": "int64",
         "type": "integer"
        },
        {
         "name": "Chemical_ID",
         "rawType": "int64",
         "type": "integer"
        },
        {
         "name": "End_Point",
         "rawType": "object",
         "type": "string"
        },
        {
         "name": "Dose",
         "rawType": "float64",
         "type": "float"
        },
        {
         "name": "bmdrc.Endpoint.ID",
         "rawType": "object",
         "type": "string"
        },
        {
         "name": "num.affected",
         "rawType": "float64",
         "type": "float"
        },
        {
         "name": "num.nonna",
         "rawType": "int64",
         "type": "integer"
        },
        {
         "name": "CI_Lo",
         "rawType": "float64",
         "type": "float"
        },
        {
         "name": "CI_Hi",
         "rawType": "float64",
         "type": "float"
        }
       ],
       "ref": "f4cffac7-7c02-4745-bd93-96a4c9b7ce8f",
       "rows": [
        [
         "0",
         "2",
         "ANY_AUC",
         "0.0",
         "2 ANY_AUC",
         "11.0",
         "36",
         "0.18004452",
         "0.46856273"
        ],
        [
         "1",
         "2",
         "ANY_AUC",
         "2.16",
         "2 ANY_AUC",
         "10.0",
         "36",
         "0.15848338",
         "0.4399249"
        ],
        [
         "2",
         "2",
         "ANY_AUC",
         "6.8",
         "2 ANY_AUC",
         "15.0",
         "36",
         "0.27140562",
         "0.57799748"
        ],
        [
         "3",
         "2",
         "ANY_AUC",
         "14.7",
         "2 ANY_AUC",
         "15.0",
         "36",
         "0.27140562",
         "0.57799748"
        ],
        [
         "4",
         "2",
         "ANY_AUC",
         "31.6",
         "2 ANY_AUC",
         "13.0",
         "36",
         "0.22475593",
         "0.52424925"
        ],
        [
         "5",
         "2",
         "ANY_AUC",
         "56.2",
         "2 ANY_AUC",
         "12.0",
         "36",
         "0.20214619",
         "0.49666002"
        ],
        [
         "6",
         "2",
         "ANY_AUC",
         "75.0",
         "2 ANY_AUC",
         "14.0",
         "36",
         "0.24784873",
         "0.55135541"
        ],
        [
         "7",
         "2",
         "ANY_AUC",
         "100.0",
         "2 ANY_AUC",
         "20.0",
         "36",
         "0.39581062",
         "0.70458731"
        ],
        [
         "8",
         "2",
         "ANY_MOV",
         "0.0",
         "2 ANY_MOV",
         "7.0",
         "36",
         "0.09753095",
         "0.35028043"
        ],
        [
         "9",
         "2",
         "ANY_MOV",
         "2.16",
         "2 ANY_MOV",
         "11.0",
         "36",
         "0.18004452",
         "0.46856273"
        ],
        [
         "10",
         "2",
         "ANY_MOV",
         "6.8",
         "2 ANY_MOV",
         "15.0",
         "36",
         "0.27140562",
         "0.57799748"
        ],
        [
         "11",
         "2",
         "ANY_MOV",
         "14.7",
         "2 ANY_MOV",
         "13.0",
         "36",
         "0.22475593",
         "0.52424925"
        ],
        [
         "12",
         "2",
         "ANY_MOV",
         "31.6",
         "2 ANY_MOV",
         "15.0",
         "36",
         "0.27140562",
         "0.57799748"
        ],
        [
         "13",
         "2",
         "ANY_MOV",
         "56.2",
         "2 ANY_MOV",
         "13.0",
         "36",
         "0.22475593",
         "0.52424925"
        ],
        [
         "14",
         "2",
         "ANY_MOV",
         "75.0",
         "2 ANY_MOV",
         "14.0",
         "36",
         "0.24784873",
         "0.55135541"
        ],
        [
         "15",
         "2",
         "ANY_MOV",
         "100.0",
         "2 ANY_MOV",
         "17.0",
         "36",
         "0.31986042",
         "0.62994062"
        ],
        [
         "16",
         "2",
         "AUC1",
         "0.0",
         "2 AUC1",
         "4.0",
         "36",
         "0.0440664",
         "0.25314809"
        ],
        [
         "17",
         "2",
         "AUC1",
         "2.16",
         "2 AUC1",
         "5.0",
         "36",
         "0.06081815",
         "0.2865953"
        ],
        [
         "18",
         "2",
         "AUC1",
         "6.8",
         "2 AUC1",
         "7.0",
         "36",
         "0.09753095",
         "0.35028043"
        ],
        [
         "19",
         "2",
         "AUC1",
         "14.7",
         "2 AUC1",
         "10.0",
         "36",
         "0.15848338",
         "0.4399249"
        ],
        [
         "20",
         "2",
         "AUC1",
         "31.6",
         "2 AUC1",
         "11.0",
         "36",
         "0.18004452",
         "0.46856273"
        ],
        [
         "21",
         "2",
         "AUC1",
         "56.2",
         "2 AUC1",
         "8.0",
         "36",
         "0.11716332",
         "0.38084703"
        ],
        [
         "22",
         "2",
         "AUC1",
         "75.0",
         "2 AUC1",
         "13.0",
         "36",
         "0.22475593",
         "0.52424925"
        ],
        [
         "23",
         "2",
         "AUC1",
         "100.0",
         "2 AUC1",
         "14.0",
         "36",
         "0.24784873",
         "0.55135541"
        ],
        [
         "24",
         "2",
         "AUC2",
         "0.0",
         "2 AUC2",
         "3.0",
         "36",
         "0.02874861",
         "0.21826691"
        ],
        [
         "25",
         "2",
         "AUC2",
         "2.16",
         "2 AUC2",
         "2.0",
         "36",
         "0.01536999",
         "0.18144657"
        ],
        [
         "26",
         "2",
         "AUC2",
         "6.8",
         "2 AUC2",
         "5.0",
         "36",
         "0.06081815",
         "0.2865953"
        ],
        [
         "27",
         "2",
         "AUC2",
         "14.7",
         "2 AUC2",
         "5.0",
         "36",
         "0.06081815",
         "0.2865953"
        ],
        [
         "28",
         "2",
         "AUC2",
         "31.6",
         "2 AUC2",
         "4.0",
         "36",
         "0.0440664",
         "0.25314809"
        ],
        [
         "29",
         "2",
         "AUC2",
         "56.2",
         "2 AUC2",
         "7.0",
         "36",
         "0.09753095",
         "0.35028043"
        ],
        [
         "30",
         "2",
         "AUC2",
         "75.0",
         "2 AUC2",
         "6.0",
         "36",
         "0.07870448",
         "0.31890794"
        ],
        [
         "31",
         "2",
         "AUC2",
         "100.0",
         "2 AUC2",
         "7.0",
         "36",
         "0.09753095",
         "0.35028043"
        ],
        [
         "32",
         "2",
         "AUC3",
         "0.0",
         "2 AUC3",
         "7.0",
         "36",
         "0.09753095",
         "0.35028043"
        ],
        [
         "33",
         "2",
         "AUC3",
         "2.16",
         "2 AUC3",
         "5.0",
         "36",
         "0.06081815",
         "0.2865953"
        ],
        [
         "34",
         "2",
         "AUC3",
         "6.8",
         "2 AUC3",
         "9.0",
         "36",
         "0.13750478",
         "0.41070454"
        ],
        [
         "35",
         "2",
         "AUC3",
         "14.7",
         "2 AUC3",
         "7.0",
         "36",
         "0.09753095",
         "0.35028043"
        ],
        [
         "36",
         "2",
         "AUC3",
         "31.6",
         "2 AUC3",
         "6.0",
         "36",
         "0.07870448",
         "0.31890794"
        ],
        [
         "37",
         "2",
         "AUC3",
         "56.2",
         "2 AUC3",
         "9.0",
         "36",
         "0.13750478",
         "0.41070454"
        ],
        [
         "38",
         "2",
         "AUC3",
         "75.0",
         "2 AUC3",
         "7.0",
         "36",
         "0.09753095",
         "0.35028043"
        ],
        [
         "39",
         "2",
         "AUC3",
         "100.0",
         "2 AUC3",
         "11.0",
         "36",
         "0.18004452",
         "0.46856273"
        ],
        [
         "40",
         "2",
         "AUC4",
         "0.0",
         "2 AUC4",
         "1.0",
         "36",
         "0.00492041",
         "0.14169719"
        ],
        [
         "41",
         "2",
         "AUC4",
         "2.16",
         "2 AUC4",
         "2.0",
         "36",
         "0.01536999",
         "0.18144657"
        ],
        [
         "42",
         "2",
         "AUC4",
         "6.8",
         "2 AUC4",
         "5.0",
         "36",
         "0.06081815",
         "0.2865953"
        ],
        [
         "43",
         "2",
         "AUC4",
         "14.7",
         "2 AUC4",
         "7.0",
         "36",
         "0.09753095",
         "0.35028043"
        ],
        [
         "44",
         "2",
         "AUC4",
         "31.6",
         "2 AUC4",
         "7.0",
         "36",
         "0.09753095",
         "0.35028043"
        ],
        [
         "45",
         "2",
         "AUC4",
         "56.2",
         "2 AUC4",
         "6.0",
         "36",
         "0.07870448",
         "0.31890794"
        ],
        [
         "46",
         "2",
         "AUC4",
         "75.0",
         "2 AUC4",
         "4.0",
         "36",
         "0.0440664",
         "0.25314809"
        ],
        [
         "47",
         "2",
         "AUC4",
         "100.0",
         "2 AUC4",
         "10.0",
         "36",
         "0.15848338",
         "0.4399249"
        ],
        [
         "48",
         "2",
         "MOV1",
         "0.0",
         "2 MOV1",
         "1.0",
         "36",
         "0.00492041",
         "0.14169719"
        ],
        [
         "49",
         "2",
         "MOV1",
         "2.16",
         "2 MOV1",
         "5.0",
         "36",
         "0.06081815",
         "0.2865953"
        ]
       ],
       "shape": {
        "columns": 8,
        "rows": 80
       }
      },
      "text/html": [
       "<div>\n",
       "<style scoped>\n",
       "    .dataframe tbody tr th:only-of-type {\n",
       "        vertical-align: middle;\n",
       "    }\n",
       "\n",
       "    .dataframe tbody tr th {\n",
       "        vertical-align: top;\n",
       "    }\n",
       "\n",
       "    .dataframe thead th {\n",
       "        text-align: right;\n",
       "    }\n",
       "</style>\n",
       "<table border=\"1\" class=\"dataframe\">\n",
       "  <thead>\n",
       "    <tr style=\"text-align: right;\">\n",
       "      <th></th>\n",
       "      <th>Chemical_ID</th>\n",
       "      <th>End_Point</th>\n",
       "      <th>Dose</th>\n",
       "      <th>bmdrc.Endpoint.ID</th>\n",
       "      <th>num.affected</th>\n",
       "      <th>num.nonna</th>\n",
       "      <th>CI_Lo</th>\n",
       "      <th>CI_Hi</th>\n",
       "    </tr>\n",
       "  </thead>\n",
       "  <tbody>\n",
       "    <tr>\n",
       "      <th>0</th>\n",
       "      <td>2</td>\n",
       "      <td>ANY_AUC</td>\n",
       "      <td>0.00</td>\n",
       "      <td>2 ANY_AUC</td>\n",
       "      <td>11.0</td>\n",
       "      <td>36</td>\n",
       "      <td>0.180045</td>\n",
       "      <td>0.468563</td>\n",
       "    </tr>\n",
       "    <tr>\n",
       "      <th>1</th>\n",
       "      <td>2</td>\n",
       "      <td>ANY_AUC</td>\n",
       "      <td>2.16</td>\n",
       "      <td>2 ANY_AUC</td>\n",
       "      <td>10.0</td>\n",
       "      <td>36</td>\n",
       "      <td>0.158483</td>\n",
       "      <td>0.439925</td>\n",
       "    </tr>\n",
       "    <tr>\n",
       "      <th>2</th>\n",
       "      <td>2</td>\n",
       "      <td>ANY_AUC</td>\n",
       "      <td>6.80</td>\n",
       "      <td>2 ANY_AUC</td>\n",
       "      <td>15.0</td>\n",
       "      <td>36</td>\n",
       "      <td>0.271406</td>\n",
       "      <td>0.577997</td>\n",
       "    </tr>\n",
       "    <tr>\n",
       "      <th>3</th>\n",
       "      <td>2</td>\n",
       "      <td>ANY_AUC</td>\n",
       "      <td>14.70</td>\n",
       "      <td>2 ANY_AUC</td>\n",
       "      <td>15.0</td>\n",
       "      <td>36</td>\n",
       "      <td>0.271406</td>\n",
       "      <td>0.577997</td>\n",
       "    </tr>\n",
       "    <tr>\n",
       "      <th>4</th>\n",
       "      <td>2</td>\n",
       "      <td>ANY_AUC</td>\n",
       "      <td>31.60</td>\n",
       "      <td>2 ANY_AUC</td>\n",
       "      <td>13.0</td>\n",
       "      <td>36</td>\n",
       "      <td>0.224756</td>\n",
       "      <td>0.524249</td>\n",
       "    </tr>\n",
       "    <tr>\n",
       "      <th>...</th>\n",
       "      <td>...</td>\n",
       "      <td>...</td>\n",
       "      <td>...</td>\n",
       "      <td>...</td>\n",
       "      <td>...</td>\n",
       "      <td>...</td>\n",
       "      <td>...</td>\n",
       "      <td>...</td>\n",
       "    </tr>\n",
       "    <tr>\n",
       "      <th>75</th>\n",
       "      <td>2</td>\n",
       "      <td>MOV4</td>\n",
       "      <td>14.70</td>\n",
       "      <td>2 MOV4</td>\n",
       "      <td>8.0</td>\n",
       "      <td>36</td>\n",
       "      <td>0.117163</td>\n",
       "      <td>0.380847</td>\n",
       "    </tr>\n",
       "    <tr>\n",
       "      <th>76</th>\n",
       "      <td>2</td>\n",
       "      <td>MOV4</td>\n",
       "      <td>31.60</td>\n",
       "      <td>2 MOV4</td>\n",
       "      <td>11.0</td>\n",
       "      <td>36</td>\n",
       "      <td>0.180045</td>\n",
       "      <td>0.468563</td>\n",
       "    </tr>\n",
       "    <tr>\n",
       "      <th>77</th>\n",
       "      <td>2</td>\n",
       "      <td>MOV4</td>\n",
       "      <td>56.20</td>\n",
       "      <td>2 MOV4</td>\n",
       "      <td>11.0</td>\n",
       "      <td>36</td>\n",
       "      <td>0.180045</td>\n",
       "      <td>0.468563</td>\n",
       "    </tr>\n",
       "    <tr>\n",
       "      <th>78</th>\n",
       "      <td>2</td>\n",
       "      <td>MOV4</td>\n",
       "      <td>75.00</td>\n",
       "      <td>2 MOV4</td>\n",
       "      <td>9.0</td>\n",
       "      <td>36</td>\n",
       "      <td>0.137505</td>\n",
       "      <td>0.410705</td>\n",
       "    </tr>\n",
       "    <tr>\n",
       "      <th>79</th>\n",
       "      <td>2</td>\n",
       "      <td>MOV4</td>\n",
       "      <td>100.00</td>\n",
       "      <td>2 MOV4</td>\n",
       "      <td>11.0</td>\n",
       "      <td>36</td>\n",
       "      <td>0.180045</td>\n",
       "      <td>0.468563</td>\n",
       "    </tr>\n",
       "  </tbody>\n",
       "</table>\n",
       "<p>80 rows × 8 columns</p>\n",
       "</div>"
      ],
      "text/plain": [
       "    Chemical_ID End_Point    Dose bmdrc.Endpoint.ID  num.affected  num.nonna  \\\n",
       "0             2   ANY_AUC    0.00         2 ANY_AUC          11.0         36   \n",
       "1             2   ANY_AUC    2.16         2 ANY_AUC          10.0         36   \n",
       "2             2   ANY_AUC    6.80         2 ANY_AUC          15.0         36   \n",
       "3             2   ANY_AUC   14.70         2 ANY_AUC          15.0         36   \n",
       "4             2   ANY_AUC   31.60         2 ANY_AUC          13.0         36   \n",
       "..          ...       ...     ...               ...           ...        ...   \n",
       "75            2      MOV4   14.70            2 MOV4           8.0         36   \n",
       "76            2      MOV4   31.60            2 MOV4          11.0         36   \n",
       "77            2      MOV4   56.20            2 MOV4          11.0         36   \n",
       "78            2      MOV4   75.00            2 MOV4           9.0         36   \n",
       "79            2      MOV4  100.00            2 MOV4          11.0         36   \n",
       "\n",
       "       CI_Lo     CI_Hi  \n",
       "0   0.180045  0.468563  \n",
       "1   0.158483  0.439925  \n",
       "2   0.271406  0.577997  \n",
       "3   0.271406  0.577997  \n",
       "4   0.224756  0.524249  \n",
       "..       ...       ...  \n",
       "75  0.117163  0.380847  \n",
       "76  0.180045  0.468563  \n",
       "77  0.180045  0.468563  \n",
       "78  0.137505  0.410705  \n",
       "79  0.180045  0.468563  \n",
       "\n",
       "[80 rows x 8 columns]"
      ]
     },
     "execution_count": 13,
     "metadata": {},
     "output_type": "execute_result"
    }
   ],
   "source": [
    "LPR.output_dose_table()\n",
    "LPR.output_res_dose_table"
   ]
  },
  {
   "cell_type": "markdown",
   "metadata": {},
   "source": [
    "### Fits\n",
    "\n",
    "And finally, see the fit information with `.output_fits_table()` and see the actual table under `.output_res_fits_table`"
   ]
  },
  {
   "cell_type": "code",
   "execution_count": 14,
   "metadata": {},
   "outputs": [
    {
     "data": {
      "application/vnd.microsoft.datawrangler.viewer.v0+json": {
       "columns": [
        {
         "name": "index",
         "rawType": "int64",
         "type": "integer"
        },
        {
         "name": "Chemical_ID",
         "rawType": "object",
         "type": "string"
        },
        {
         "name": "End_Point",
         "rawType": "object",
         "type": "string"
        },
        {
         "name": "X_vals",
         "rawType": "float64",
         "type": "float"
        },
        {
         "name": "Y_vals",
         "rawType": "float64",
         "type": "float"
        },
        {
         "name": "bmdrc.Endpoint.ID",
         "rawType": "object",
         "type": "string"
        }
       ],
       "ref": "a8b9a8c3-fe4a-4a29-a672-f5a5efc306de",
       "rows": [
        [
         "0",
         "2",
         "ANY_AUC",
         "0.0",
         "0.32784731",
         "2 ANY_AUC"
        ],
        [
         "1",
         "2",
         "ANY_AUC",
         "0.24",
         "0.32824213",
         "2 ANY_AUC"
        ],
        [
         "2",
         "2",
         "ANY_AUC",
         "0.48",
         "0.32863672",
         "2 ANY_AUC"
        ],
        [
         "3",
         "2",
         "ANY_AUC",
         "0.72",
         "0.32903109",
         "2 ANY_AUC"
        ],
        [
         "4",
         "2",
         "ANY_AUC",
         "0.96",
         "0.32942522",
         "2 ANY_AUC"
        ],
        [
         "5",
         "2",
         "ANY_AUC",
         "1.2",
         "0.32981911",
         "2 ANY_AUC"
        ],
        [
         "6",
         "2",
         "ANY_AUC",
         "1.44",
         "0.33021278",
         "2 ANY_AUC"
        ],
        [
         "7",
         "2",
         "ANY_AUC",
         "1.68",
         "0.33060622",
         "2 ANY_AUC"
        ],
        [
         "8",
         "2",
         "ANY_AUC",
         "1.92",
         "0.33099942",
         "2 ANY_AUC"
        ],
        [
         "9",
         "2",
         "ANY_AUC",
         "2.16",
         "0.33139239",
         "2 ANY_AUC"
        ],
        [
         "10",
         "2",
         "ANY_AUC",
         "2.6756",
         "0.33223585",
         "2 ANY_AUC"
        ],
        [
         "11",
         "2",
         "ANY_AUC",
         "3.1911",
         "0.33307808",
         "2 ANY_AUC"
        ],
        [
         "12",
         "2",
         "ANY_AUC",
         "3.7067",
         "0.33391941",
         "2 ANY_AUC"
        ],
        [
         "13",
         "2",
         "ANY_AUC",
         "4.2222",
         "0.33475952",
         "2 ANY_AUC"
        ],
        [
         "14",
         "2",
         "ANY_AUC",
         "4.7378",
         "0.33559873",
         "2 ANY_AUC"
        ],
        [
         "15",
         "2",
         "ANY_AUC",
         "5.2533",
         "0.33643672",
         "2 ANY_AUC"
        ],
        [
         "16",
         "2",
         "ANY_AUC",
         "5.7689",
         "0.33727381",
         "2 ANY_AUC"
        ],
        [
         "17",
         "2",
         "ANY_AUC",
         "6.2844",
         "0.33810968",
         "2 ANY_AUC"
        ],
        [
         "18",
         "2",
         "ANY_AUC",
         "6.8",
         "0.33894467",
         "2 ANY_AUC"
        ],
        [
         "19",
         "2",
         "ANY_AUC",
         "7.6778",
         "0.34036379",
         "2 ANY_AUC"
        ],
        [
         "20",
         "2",
         "ANY_AUC",
         "8.5556",
         "0.34177987",
         "2 ANY_AUC"
        ],
        [
         "21",
         "2",
         "ANY_AUC",
         "9.4333",
         "0.34319274",
         "2 ANY_AUC"
        ],
        [
         "22",
         "2",
         "ANY_AUC",
         "10.3111",
         "0.34460274",
         "2 ANY_AUC"
        ],
        [
         "23",
         "2",
         "ANY_AUC",
         "11.1889",
         "0.34600972",
         "2 ANY_AUC"
        ],
        [
         "24",
         "2",
         "ANY_AUC",
         "12.0667",
         "0.34741367",
         "2 ANY_AUC"
        ],
        [
         "25",
         "2",
         "ANY_AUC",
         "12.9444",
         "0.34881445",
         "2 ANY_AUC"
        ],
        [
         "26",
         "2",
         "ANY_AUC",
         "13.8222",
         "0.35021239",
         "2 ANY_AUC"
        ],
        [
         "27",
         "2",
         "ANY_AUC",
         "14.7",
         "0.35160732",
         "2 ANY_AUC"
        ],
        [
         "28",
         "2",
         "ANY_AUC",
         "16.5778",
         "0.35458133",
         "2 ANY_AUC"
        ],
        [
         "29",
         "2",
         "ANY_AUC",
         "18.4556",
         "0.3575417",
         "2 ANY_AUC"
        ],
        [
         "30",
         "2",
         "ANY_AUC",
         "20.3333",
         "0.36048834",
         "2 ANY_AUC"
        ],
        [
         "31",
         "2",
         "ANY_AUC",
         "22.2111",
         "0.36342161",
         "2 ANY_AUC"
        ],
        [
         "32",
         "2",
         "ANY_AUC",
         "24.0889",
         "0.36634143",
         "2 ANY_AUC"
        ],
        [
         "33",
         "2",
         "ANY_AUC",
         "25.9667",
         "0.36924786",
         "2 ANY_AUC"
        ],
        [
         "34",
         "2",
         "ANY_AUC",
         "27.8444",
         "0.3721408",
         "2 ANY_AUC"
        ],
        [
         "35",
         "2",
         "ANY_AUC",
         "29.7222",
         "0.37502063",
         "2 ANY_AUC"
        ],
        [
         "36",
         "2",
         "ANY_AUC",
         "31.6",
         "0.37788725",
         "2 ANY_AUC"
        ],
        [
         "37",
         "2",
         "ANY_AUC",
         "34.3333",
         "0.38203638",
         "2 ANY_AUC"
        ],
        [
         "38",
         "2",
         "ANY_AUC",
         "37.0667",
         "0.38615799",
         "2 ANY_AUC"
        ],
        [
         "39",
         "2",
         "ANY_AUC",
         "39.8",
         "0.39025196",
         "2 ANY_AUC"
        ],
        [
         "40",
         "2",
         "ANY_AUC",
         "42.5333",
         "0.39431862",
         "2 ANY_AUC"
        ],
        [
         "41",
         "2",
         "ANY_AUC",
         "45.2667",
         "0.39835831",
         "2 ANY_AUC"
        ],
        [
         "42",
         "2",
         "ANY_AUC",
         "48.0",
         "0.40237091",
         "2 ANY_AUC"
        ],
        [
         "43",
         "2",
         "ANY_AUC",
         "50.7333",
         "0.40635675",
         "2 ANY_AUC"
        ],
        [
         "44",
         "2",
         "ANY_AUC",
         "53.4667",
         "0.41031615",
         "2 ANY_AUC"
        ],
        [
         "45",
         "2",
         "ANY_AUC",
         "56.2",
         "0.414249",
         "2 ANY_AUC"
        ],
        [
         "46",
         "2",
         "ANY_AUC",
         "58.2889",
         "0.41723695",
         "2 ANY_AUC"
        ],
        [
         "47",
         "2",
         "ANY_AUC",
         "60.3778",
         "0.42020966",
         "2 ANY_AUC"
        ],
        [
         "48",
         "2",
         "ANY_AUC",
         "62.4667",
         "0.4231672",
         "2 ANY_AUC"
        ],
        [
         "49",
         "2",
         "ANY_AUC",
         "64.5556",
         "0.42610966",
         "2 ANY_AUC"
        ]
       ],
       "shape": {
        "columns": 5,
        "rows": 640
       }
      },
      "text/html": [
       "<div>\n",
       "<style scoped>\n",
       "    .dataframe tbody tr th:only-of-type {\n",
       "        vertical-align: middle;\n",
       "    }\n",
       "\n",
       "    .dataframe tbody tr th {\n",
       "        vertical-align: top;\n",
       "    }\n",
       "\n",
       "    .dataframe thead th {\n",
       "        text-align: right;\n",
       "    }\n",
       "</style>\n",
       "<table border=\"1\" class=\"dataframe\">\n",
       "  <thead>\n",
       "    <tr style=\"text-align: right;\">\n",
       "      <th></th>\n",
       "      <th>Chemical_ID</th>\n",
       "      <th>End_Point</th>\n",
       "      <th>X_vals</th>\n",
       "      <th>Y_vals</th>\n",
       "      <th>bmdrc.Endpoint.ID</th>\n",
       "    </tr>\n",
       "  </thead>\n",
       "  <tbody>\n",
       "    <tr>\n",
       "      <th>0</th>\n",
       "      <td>2</td>\n",
       "      <td>ANY_AUC</td>\n",
       "      <td>0.0000</td>\n",
       "      <td>0.327847</td>\n",
       "      <td>2 ANY_AUC</td>\n",
       "    </tr>\n",
       "    <tr>\n",
       "      <th>1</th>\n",
       "      <td>2</td>\n",
       "      <td>ANY_AUC</td>\n",
       "      <td>0.2400</td>\n",
       "      <td>0.328242</td>\n",
       "      <td>2 ANY_AUC</td>\n",
       "    </tr>\n",
       "    <tr>\n",
       "      <th>2</th>\n",
       "      <td>2</td>\n",
       "      <td>ANY_AUC</td>\n",
       "      <td>0.4800</td>\n",
       "      <td>0.328637</td>\n",
       "      <td>2 ANY_AUC</td>\n",
       "    </tr>\n",
       "    <tr>\n",
       "      <th>3</th>\n",
       "      <td>2</td>\n",
       "      <td>ANY_AUC</td>\n",
       "      <td>0.7200</td>\n",
       "      <td>0.329031</td>\n",
       "      <td>2 ANY_AUC</td>\n",
       "    </tr>\n",
       "    <tr>\n",
       "      <th>4</th>\n",
       "      <td>2</td>\n",
       "      <td>ANY_AUC</td>\n",
       "      <td>0.9600</td>\n",
       "      <td>0.329425</td>\n",
       "      <td>2 ANY_AUC</td>\n",
       "    </tr>\n",
       "    <tr>\n",
       "      <th>...</th>\n",
       "      <td>...</td>\n",
       "      <td>...</td>\n",
       "      <td>...</td>\n",
       "      <td>...</td>\n",
       "      <td>...</td>\n",
       "    </tr>\n",
       "    <tr>\n",
       "      <th>59</th>\n",
       "      <td>2</td>\n",
       "      <td>MOV4</td>\n",
       "      <td>88.8889</td>\n",
       "      <td>0.313157</td>\n",
       "      <td>2 MOV4</td>\n",
       "    </tr>\n",
       "    <tr>\n",
       "      <th>60</th>\n",
       "      <td>2</td>\n",
       "      <td>MOV4</td>\n",
       "      <td>91.6667</td>\n",
       "      <td>0.314634</td>\n",
       "      <td>2 MOV4</td>\n",
       "    </tr>\n",
       "    <tr>\n",
       "      <th>61</th>\n",
       "      <td>2</td>\n",
       "      <td>MOV4</td>\n",
       "      <td>94.4444</td>\n",
       "      <td>0.316075</td>\n",
       "      <td>2 MOV4</td>\n",
       "    </tr>\n",
       "    <tr>\n",
       "      <th>62</th>\n",
       "      <td>2</td>\n",
       "      <td>MOV4</td>\n",
       "      <td>97.2222</td>\n",
       "      <td>0.317484</td>\n",
       "      <td>2 MOV4</td>\n",
       "    </tr>\n",
       "    <tr>\n",
       "      <th>63</th>\n",
       "      <td>2</td>\n",
       "      <td>MOV4</td>\n",
       "      <td>100.0000</td>\n",
       "      <td>0.318861</td>\n",
       "      <td>2 MOV4</td>\n",
       "    </tr>\n",
       "  </tbody>\n",
       "</table>\n",
       "<p>640 rows × 5 columns</p>\n",
       "</div>"
      ],
      "text/plain": [
       "   Chemical_ID End_Point    X_vals    Y_vals bmdrc.Endpoint.ID\n",
       "0            2   ANY_AUC    0.0000  0.327847         2 ANY_AUC\n",
       "1            2   ANY_AUC    0.2400  0.328242         2 ANY_AUC\n",
       "2            2   ANY_AUC    0.4800  0.328637         2 ANY_AUC\n",
       "3            2   ANY_AUC    0.7200  0.329031         2 ANY_AUC\n",
       "4            2   ANY_AUC    0.9600  0.329425         2 ANY_AUC\n",
       "..         ...       ...       ...       ...               ...\n",
       "59           2      MOV4   88.8889  0.313157            2 MOV4\n",
       "60           2      MOV4   91.6667  0.314634            2 MOV4\n",
       "61           2      MOV4   94.4444  0.316075            2 MOV4\n",
       "62           2      MOV4   97.2222  0.317484            2 MOV4\n",
       "63           2      MOV4  100.0000  0.318861            2 MOV4\n",
       "\n",
       "[640 rows x 5 columns]"
      ]
     },
     "execution_count": 14,
     "metadata": {},
     "output_type": "execute_result"
    }
   ],
   "source": [
    "LPR.output_fits_table()\n",
    "LPR.output_res_fits_table"
   ]
  }
 ],
 "metadata": {
  "kernelspec": {
   "display_name": "bmdrc",
   "language": "python",
   "name": "python3"
  },
  "language_info": {
   "codemirror_mode": {
    "name": "ipython",
    "version": 3
   },
   "file_extension": ".py",
   "mimetype": "text/x-python",
   "name": "python",
   "nbconvert_exporter": "python",
   "pygments_lexer": "ipython3",
   "version": "3.10.15"
  }
 },
 "nbformat": 4,
 "nbformat_minor": 2
}
