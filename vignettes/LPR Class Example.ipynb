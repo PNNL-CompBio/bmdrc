{
 "cells": [
  {
   "cell_type": "code",
   "execution_count": 1,
   "metadata": {},
   "outputs": [],
   "source": [
    "import bmdrc\n",
    "import pandas as pd"
   ]
  },
  {
   "cell_type": "markdown",
   "metadata": {},
   "source": [
    "## Module 1: Input Data Modules \n",
    "\n",
    "##### LPR Class"
   ]
  },
  {
   "cell_type": "code",
   "execution_count": 2,
   "metadata": {},
   "outputs": [
    {
     "name": "stdout",
     "output_type": "stream",
     "text": [
      "...defining cycles\n",
      "...calculating AUC values\n",
      "...calculating MOV values\n"
     ]
    }
   ],
   "source": [
    "from bmdrc.LPRClass import LPRClass\n",
    "\n",
    "lpr_example = pd.read_csv(\"/Users/degn400/Git_Repos/bmdrc/data/LPR_Long.csv\")\n",
    "\n",
    "LPR = LPRClass(\n",
    "    df = lpr_example,\n",
    "    chemical = \"chemical.id\",\n",
    "    plate = \"plate.id\",\n",
    "    well = \"well\",\n",
    "    concentration = \"conc\",\n",
    "    time = \"variable\",\n",
    "    value = \"value\",\n",
    "    cycle_length = 20.0,\n",
    "    cycle_cooldown = 10.0, \n",
    "    starting_cycle = \"light\"\n",
    ")"
   ]
  },
  {
   "cell_type": "code",
   "execution_count": 3,
   "metadata": {},
   "outputs": [
    {
     "data": {
      "text/html": [
       "<div>\n",
       "<style scoped>\n",
       "    .dataframe tbody tr th:only-of-type {\n",
       "        vertical-align: middle;\n",
       "    }\n",
       "\n",
       "    .dataframe tbody tr th {\n",
       "        vertical-align: top;\n",
       "    }\n",
       "\n",
       "    .dataframe thead th {\n",
       "        text-align: right;\n",
       "    }\n",
       "</style>\n",
       "<table border=\"1\" class=\"dataframe\">\n",
       "  <thead>\n",
       "    <tr style=\"text-align: right;\">\n",
       "      <th></th>\n",
       "      <th>chemical.id</th>\n",
       "      <th>conc</th>\n",
       "      <th>plate.id</th>\n",
       "      <th>well</th>\n",
       "      <th>endpoint</th>\n",
       "      <th>value</th>\n",
       "    </tr>\n",
       "  </thead>\n",
       "  <tbody>\n",
       "    <tr>\n",
       "      <th>0</th>\n",
       "      <td>2</td>\n",
       "      <td>0.0</td>\n",
       "      <td>20544</td>\n",
       "      <td>H01</td>\n",
       "      <td>AUC1</td>\n",
       "      <td>0.0</td>\n",
       "    </tr>\n",
       "    <tr>\n",
       "      <th>1</th>\n",
       "      <td>2</td>\n",
       "      <td>0.0</td>\n",
       "      <td>20544</td>\n",
       "      <td>H02</td>\n",
       "      <td>AUC1</td>\n",
       "      <td>0.0</td>\n",
       "    </tr>\n",
       "    <tr>\n",
       "      <th>2</th>\n",
       "      <td>2</td>\n",
       "      <td>0.0</td>\n",
       "      <td>20544</td>\n",
       "      <td>H03</td>\n",
       "      <td>AUC1</td>\n",
       "      <td>0.0</td>\n",
       "    </tr>\n",
       "    <tr>\n",
       "      <th>3</th>\n",
       "      <td>2</td>\n",
       "      <td>0.0</td>\n",
       "      <td>20544</td>\n",
       "      <td>H04</td>\n",
       "      <td>AUC1</td>\n",
       "      <td>0.0</td>\n",
       "    </tr>\n",
       "    <tr>\n",
       "      <th>4</th>\n",
       "      <td>2</td>\n",
       "      <td>0.0</td>\n",
       "      <td>20544</td>\n",
       "      <td>H05</td>\n",
       "      <td>AUC1</td>\n",
       "      <td>1.0</td>\n",
       "    </tr>\n",
       "    <tr>\n",
       "      <th>...</th>\n",
       "      <td>...</td>\n",
       "      <td>...</td>\n",
       "      <td>...</td>\n",
       "      <td>...</td>\n",
       "      <td>...</td>\n",
       "      <td>...</td>\n",
       "    </tr>\n",
       "    <tr>\n",
       "      <th>2299</th>\n",
       "      <td>2</td>\n",
       "      <td>100.0</td>\n",
       "      <td>20625</td>\n",
       "      <td>A08</td>\n",
       "      <td>MOV4</td>\n",
       "      <td>0.0</td>\n",
       "    </tr>\n",
       "    <tr>\n",
       "      <th>2300</th>\n",
       "      <td>2</td>\n",
       "      <td>100.0</td>\n",
       "      <td>20625</td>\n",
       "      <td>A09</td>\n",
       "      <td>MOV4</td>\n",
       "      <td>0.0</td>\n",
       "    </tr>\n",
       "    <tr>\n",
       "      <th>2301</th>\n",
       "      <td>2</td>\n",
       "      <td>100.0</td>\n",
       "      <td>20625</td>\n",
       "      <td>A10</td>\n",
       "      <td>MOV4</td>\n",
       "      <td>0.0</td>\n",
       "    </tr>\n",
       "    <tr>\n",
       "      <th>2302</th>\n",
       "      <td>2</td>\n",
       "      <td>100.0</td>\n",
       "      <td>20625</td>\n",
       "      <td>A11</td>\n",
       "      <td>MOV4</td>\n",
       "      <td>0.0</td>\n",
       "    </tr>\n",
       "    <tr>\n",
       "      <th>2303</th>\n",
       "      <td>2</td>\n",
       "      <td>100.0</td>\n",
       "      <td>20625</td>\n",
       "      <td>A12</td>\n",
       "      <td>MOV4</td>\n",
       "      <td>0.0</td>\n",
       "    </tr>\n",
       "  </tbody>\n",
       "</table>\n",
       "<p>2304 rows × 6 columns</p>\n",
       "</div>"
      ],
      "text/plain": [
       "      chemical.id   conc  plate.id well endpoint  value\n",
       "0               2    0.0     20544  H01     AUC1    0.0\n",
       "1               2    0.0     20544  H02     AUC1    0.0\n",
       "2               2    0.0     20544  H03     AUC1    0.0\n",
       "3               2    0.0     20544  H04     AUC1    0.0\n",
       "4               2    0.0     20544  H05     AUC1    1.0\n",
       "...           ...    ...       ...  ...      ...    ...\n",
       "2299            2  100.0     20625  A08     MOV4    0.0\n",
       "2300            2  100.0     20625  A09     MOV4    0.0\n",
       "2301            2  100.0     20625  A10     MOV4    0.0\n",
       "2302            2  100.0     20625  A11     MOV4    0.0\n",
       "2303            2  100.0     20625  A12     MOV4    0.0\n",
       "\n",
       "[2304 rows x 6 columns]"
      ]
     },
     "execution_count": 3,
     "metadata": {},
     "output_type": "execute_result"
    }
   ],
   "source": [
    "LPR.df"
   ]
  },
  {
   "cell_type": "markdown",
   "metadata": {},
   "source": [
    "## Module 2: Pre-Processing Modules\n",
    "\n",
    "##### LPR Class: Combine Endpoints"
   ]
  },
  {
   "cell_type": "code",
   "execution_count": 4,
   "metadata": {},
   "outputs": [],
   "source": [
    "LPR.combine_and_create_new_endpoints({\"ANY_MOV\": [\"MOV1\", \"MOV2\", \"MOV3\", \"MOV4\"],\n",
    "                                      \"ANY_AUC\": [\"AUC1\", \"AUC2\", \"AUC3\", \"AUC4\"]})"
   ]
  },
  {
   "cell_type": "markdown",
   "metadata": {},
   "source": [
    "#### LPR Class: Set wells to NA"
   ]
  },
  {
   "cell_type": "code",
   "execution_count": 7,
   "metadata": {},
   "outputs": [
    {
     "data": {
      "text/plain": [
       "array(['AUC1', 'AUC2', 'AUC3', 'AUC4', 'MOV1', 'MOV2', 'MOV3', 'MOV4',\n",
       "       'ANY_MOV', 'ANY_AUC'], dtype=object)"
      ]
     },
     "execution_count": 7,
     "metadata": {},
     "output_type": "execute_result"
    }
   ],
   "source": [
    "LPR.set_well_to_na(endpoint_name = )"
   ]
  }
 ],
 "metadata": {
  "kernelspec": {
   "display_name": "Python 3",
   "language": "python",
   "name": "python3"
  },
  "language_info": {
   "codemirror_mode": {
    "name": "ipython",
    "version": 3
   },
   "file_extension": ".py",
   "mimetype": "text/x-python",
   "name": "python",
   "nbconvert_exporter": "python",
   "pygments_lexer": "ipython3",
   "version": "3.10.5"
  }
 },
 "nbformat": 4,
 "nbformat_minor": 2
}
