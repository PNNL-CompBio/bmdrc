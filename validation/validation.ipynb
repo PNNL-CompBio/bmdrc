{
 "cells": [
  {
   "cell_type": "markdown",
   "metadata": {},
   "source": [
    "## Validation Test\n",
    "\n",
    "\n",
    "**The detailed statisitics explanation**\n",
    "\n",
    "This data was generated from a logistic distribution with a intercept of -10 and a slope of 0.5 for the logit function. Probabilites were calculated for each integer value doses from 0 to 50 uM, and 30 values were drawn for each dose from a binomial distribution using the calculated probability and a size of 1. The curve for the distribution was then drawn, and a more realistic number of 8 doses (as opposed to 51) was selected for this test.\n",
    "\n",
    "**The simplified takeaways**\n",
    "\n",
    "This data should fit well to a logistic distribution, and have a BMD10 of 15.6055 uM\n",
    "\n",
    "**Result**\n",
    "\n",
    "The logistic curve is suggested as the best fit. That calculated BMD10 was 15.78 uM. "
   ]
  },
  {
   "cell_type": "code",
   "execution_count": 1,
   "metadata": {},
   "outputs": [
    {
     "name": "stdout",
     "output_type": "stream",
     "text": [
      "No filters have been applied to this dataset, which is unusual. Proceeding with analysis.\n"
     ]
    }
   ],
   "source": [
    "from bmdrc import BinaryClass\n",
    "import pandas as pd\n",
    "\n",
    "# Load data\n",
    "BC_Test = BinaryClass.BinaryClass(\n",
    "    df = pd.read_csv(\"validation_data.csv\"),\n",
    "    chemical = \"chemical\",\n",
    "    plate = \"plate\",  \n",
    "    well = \"well\",\n",
    "    concentration = \"concentration\",\n",
    "    endpoint = \"endpoint\",\n",
    "    value = \"value\",\n",
    "    format = \"long\"\n",
    ")\n",
    "\n",
    "# No preprocessing or filtering is needed, so model fits can be calculated right away\n",
    "BC_Test.fit_models()"
   ]
  },
  {
   "cell_type": "code",
   "execution_count": 2,
   "metadata": {},
   "outputs": [
    {
     "data": {
      "text/html": [
       "<div>\n",
       "<style scoped>\n",
       "    .dataframe tbody tr th:only-of-type {\n",
       "        vertical-align: middle;\n",
       "    }\n",
       "\n",
       "    .dataframe tbody tr th {\n",
       "        vertical-align: top;\n",
       "    }\n",
       "\n",
       "    .dataframe thead th {\n",
       "        text-align: right;\n",
       "    }\n",
       "</style>\n",
       "<table border=\"1\" class=\"dataframe\">\n",
       "  <thead>\n",
       "    <tr style=\"text-align: right;\">\n",
       "      <th></th>\n",
       "      <th>bmdrc.Endpoint.ID</th>\n",
       "      <th>Model</th>\n",
       "      <th>BMD10</th>\n",
       "      <th>BMDL</th>\n",
       "      <th>BMD50</th>\n",
       "      <th>AUC</th>\n",
       "      <th>Min_Dose</th>\n",
       "      <th>Max_Dose</th>\n",
       "      <th>AUC_Norm</th>\n",
       "    </tr>\n",
       "  </thead>\n",
       "  <tbody>\n",
       "    <tr>\n",
       "      <th>0</th>\n",
       "      <td>test TEST</td>\n",
       "      <td>Logistic</td>\n",
       "      <td>15.78114</td>\n",
       "      <td>14.524375</td>\n",
       "      <td>19.574217</td>\n",
       "      <td>10.416667</td>\n",
       "      <td>0</td>\n",
       "      <td>30</td>\n",
       "      <td>0.347222</td>\n",
       "    </tr>\n",
       "  </tbody>\n",
       "</table>\n",
       "</div>"
      ],
      "text/plain": [
       "  bmdrc.Endpoint.ID     Model     BMD10       BMDL      BMD50        AUC  \\\n",
       "0         test TEST  Logistic  15.78114  14.524375  19.574217  10.416667   \n",
       "\n",
       "   Min_Dose  Max_Dose  AUC_Norm  \n",
       "0         0        30  0.347222  "
      ]
     },
     "execution_count": 2,
     "metadata": {},
     "output_type": "execute_result"
    }
   ],
   "source": [
    "BC_Test.bmds"
   ]
  },
  {
   "cell_type": "code",
   "execution_count": 3,
   "metadata": {},
   "outputs": [
    {
     "data": {
      "text/html": [
       "<div>\n",
       "<style scoped>\n",
       "    .dataframe tbody tr th:only-of-type {\n",
       "        vertical-align: middle;\n",
       "    }\n",
       "\n",
       "    .dataframe tbody tr th {\n",
       "        vertical-align: top;\n",
       "    }\n",
       "\n",
       "    .dataframe thead th {\n",
       "        text-align: right;\n",
       "    }\n",
       "</style>\n",
       "<table border=\"1\" class=\"dataframe\">\n",
       "  <thead>\n",
       "    <tr style=\"text-align: right;\">\n",
       "      <th></th>\n",
       "      <th>Logistic</th>\n",
       "      <th>Gamma</th>\n",
       "      <th>Weibull</th>\n",
       "      <th>Log Logistic</th>\n",
       "      <th>Probit</th>\n",
       "      <th>Log Probit</th>\n",
       "      <th>Multistage2</th>\n",
       "      <th>Quantal Linear</th>\n",
       "      <th>bmdrc.Endpoint.ID</th>\n",
       "    </tr>\n",
       "  </thead>\n",
       "  <tbody>\n",
       "    <tr>\n",
       "      <th>0</th>\n",
       "      <td>111.210594</td>\n",
       "      <td>122.725647</td>\n",
       "      <td>NaN</td>\n",
       "      <td>117.028756</td>\n",
       "      <td>NaN</td>\n",
       "      <td>NaN</td>\n",
       "      <td>NaN</td>\n",
       "      <td>222.020718</td>\n",
       "      <td>test TEST</td>\n",
       "    </tr>\n",
       "  </tbody>\n",
       "</table>\n",
       "</div>"
      ],
      "text/plain": [
       "     Logistic       Gamma  Weibull  Log Logistic  Probit  Log Probit  \\\n",
       "0  111.210594  122.725647      NaN    117.028756     NaN         NaN   \n",
       "\n",
       "   Multistage2  Quantal Linear bmdrc.Endpoint.ID  \n",
       "0          NaN      222.020718         test TEST  "
      ]
     },
     "execution_count": 3,
     "metadata": {},
     "output_type": "execute_result"
    }
   ],
   "source": [
    "BC_Test.aic_df"
   ]
  },
  {
   "cell_type": "code",
   "execution_count": 4,
   "metadata": {},
   "outputs": [
    {
     "data": {
      "text/html": [
       "<div>\n",
       "<style scoped>\n",
       "    .dataframe tbody tr th:only-of-type {\n",
       "        vertical-align: middle;\n",
       "    }\n",
       "\n",
       "    .dataframe tbody tr th {\n",
       "        vertical-align: top;\n",
       "    }\n",
       "\n",
       "    .dataframe thead th {\n",
       "        text-align: right;\n",
       "    }\n",
       "</style>\n",
       "<table border=\"1\" class=\"dataframe\">\n",
       "  <thead>\n",
       "    <tr style=\"text-align: right;\">\n",
       "      <th></th>\n",
       "      <th>Logistic</th>\n",
       "      <th>Gamma</th>\n",
       "      <th>Weibull</th>\n",
       "      <th>Log Logistic</th>\n",
       "      <th>Probit</th>\n",
       "      <th>Log Probit</th>\n",
       "      <th>Multistage2</th>\n",
       "      <th>Quantal Linear</th>\n",
       "      <th>bmdrc.Endpoint.ID</th>\n",
       "    </tr>\n",
       "  </thead>\n",
       "  <tbody>\n",
       "    <tr>\n",
       "      <th>0</th>\n",
       "      <td>9.238574</td>\n",
       "      <td>9.284559</td>\n",
       "      <td>0.55</td>\n",
       "      <td>9.574613</td>\n",
       "      <td>NaN</td>\n",
       "      <td>0.0</td>\n",
       "      <td>NaN</td>\n",
       "      <td>1.443554</td>\n",
       "      <td>test TEST</td>\n",
       "    </tr>\n",
       "  </tbody>\n",
       "</table>\n",
       "</div>"
      ],
      "text/plain": [
       "   Logistic     Gamma  Weibull  Log Logistic  Probit  Log Probit  Multistage2  \\\n",
       "0  9.238574  9.284559     0.55      9.574613     NaN         0.0          NaN   \n",
       "\n",
       "   Quantal Linear bmdrc.Endpoint.ID  \n",
       "0        1.443554         test TEST  "
      ]
     },
     "execution_count": 4,
     "metadata": {},
     "output_type": "execute_result"
    }
   ],
   "source": [
    "BC_Test.bmdls_df"
   ]
  },
  {
   "cell_type": "code",
   "execution_count": 4,
   "metadata": {},
   "outputs": [
    {
     "data": {
      "text/html": [
       "<div>\n",
       "<style scoped>\n",
       "    .dataframe tbody tr th:only-of-type {\n",
       "        vertical-align: middle;\n",
       "    }\n",
       "\n",
       "    .dataframe tbody tr th {\n",
       "        vertical-align: top;\n",
       "    }\n",
       "\n",
       "    .dataframe thead th {\n",
       "        text-align: right;\n",
       "    }\n",
       "</style>\n",
       "<table border=\"1\" class=\"dataframe\">\n",
       "  <thead>\n",
       "    <tr style=\"text-align: right;\">\n",
       "      <th></th>\n",
       "      <th>Logistic</th>\n",
       "      <th>Gamma</th>\n",
       "      <th>Weibull</th>\n",
       "      <th>Log Logistic</th>\n",
       "      <th>Probit</th>\n",
       "      <th>Log Probit</th>\n",
       "      <th>Multistage2</th>\n",
       "      <th>Quantal Linear</th>\n",
       "      <th>bmdrc.Endpoint.ID</th>\n",
       "    </tr>\n",
       "  </thead>\n",
       "  <tbody>\n",
       "    <tr>\n",
       "      <th>0</th>\n",
       "      <td>0.223793</td>\n",
       "      <td>0.037566</td>\n",
       "      <td>NaN</td>\n",
       "      <td>0.030028</td>\n",
       "      <td>NaN</td>\n",
       "      <td>NaN</td>\n",
       "      <td>1.0</td>\n",
       "      <td>1.051911e-15</td>\n",
       "      <td>test TEST</td>\n",
       "    </tr>\n",
       "  </tbody>\n",
       "</table>\n",
       "</div>"
      ],
      "text/plain": [
       "   Logistic     Gamma  Weibull  Log Logistic  Probit  Log Probit  Multistage2  \\\n",
       "0  0.223793  0.037566      NaN      0.030028     NaN         NaN          1.0   \n",
       "\n",
       "   Quantal Linear bmdrc.Endpoint.ID  \n",
       "0    1.051911e-15         test TEST  "
      ]
     },
     "execution_count": 4,
     "metadata": {},
     "output_type": "execute_result"
    }
   ],
   "source": [
    "BC_Test.p_value_df"
   ]
  },
  {
   "cell_type": "code",
   "execution_count": 5,
   "metadata": {},
   "outputs": [
    {
     "data": {
      "image/png": "[encoded data removed]",
      "text/plain": [
       "<Figure size 720x360 with 1 Axes>"
      ]
     },
     "metadata": {
      "needs_background": "light"
     },
     "output_type": "display_data"
    }
   ],
   "source": [
    "BC_Test.response_curve(chemical_name = \"test\", endpoint_name = \"TEST\", model = \"logistic\")"
   ]
  }
 ],
 "metadata": {
  "kernelspec": {
   "display_name": "Python 3",
   "language": "python",
   "name": "python3"
  },
  "language_info": {
   "codemirror_mode": {
    "name": "ipython",
    "version": 3
   },
   "file_extension": ".py",
   "mimetype": "text/x-python",
   "name": "python",
   "nbconvert_exporter": "python",
   "pygments_lexer": "ipython3",
   "version": "3.10.5"
  }
 },
 "nbformat": 4,
 "nbformat_minor": 2
}
