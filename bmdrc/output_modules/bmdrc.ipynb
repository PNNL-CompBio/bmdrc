{
  "cells": [
    {
      "cell_type": "raw",
      "metadata": {},
      "source": [
        "---\n",
        "title: Benchmark Dose Response Curves\n",
        "format:\n",
        "  html:\n",
        "    code-fold: true\n",
        "---"
      ],
      "id": "ae09502d"
    },
    {
      "cell_type": "markdown",
      "metadata": {},
      "source": [
        "<hr>\n",
        "<hr>\n"
      ],
      "id": "0740a178"
    },
    {
      "cell_type": "code",
      "metadata": {},
      "source": [
        "#| echo: false\n",
        "# Load Libraries \n",
        "import sys\n",
        "import dill\n",
        "bmdrc = dill.load(open(\"/Users/degn400/Downloads/bmdrc.pkl\", \"rb\"))"
      ],
      "id": "dcfca805",
      "execution_count": null,
      "outputs": []
    },
    {
      "cell_type": "markdown",
      "metadata": {},
      "source": [
        "## Import\n",
        "\n",
        "Benchmark dose data was uploaded in `{python} bmdrc.format` format.\n",
        "\n",
        "\n",
        "```{r}\n",
        "\n",
        "```\n",
        "\n",
        "\n",
        "## Pre-Processing\n",
        "\n",
        "## Filtering\n",
        "\n",
        "## Model Fitting\n",
        "\n",
        "## Notebook Details \n",
        "\n",
        "This notebook was built using `{python} sys.executable`\n"
      ],
      "id": "b1db19cb"
    }
  ],
  "metadata": {
    "kernelspec": {
      "name": "python3",
      "language": "python",
      "display_name": "Python 3 (ipykernel)"
    }
  },
  "nbformat": 4,
  "nbformat_minor": 5
}