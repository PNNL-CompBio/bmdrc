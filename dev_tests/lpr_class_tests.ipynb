{
 "cells": [
  {
   "cell_type": "code",
   "execution_count": 1,
   "metadata": {},
   "outputs": [],
   "source": [
    "import bmdrc\n",
    "import pandas as pd"
   ]
  },
  {
   "cell_type": "markdown",
   "metadata": {},
   "source": [
    "## Module 1: Input Data Modules \n",
    "\n",
    "##### LPR Class"
   ]
  },
  {
   "cell_type": "code",
   "execution_count": 2,
   "metadata": {},
   "outputs": [
    {
     "name": "stdout",
     "output_type": "stream",
     "text": [
      "...defining cycles\n"
     ]
    }
   ],
   "source": [
    "from bmdrc.LPRClass import LPRClass\n",
    "\n",
    "lpr_example = pd.read_csv(\"/Users/degn400/Git_Repos/bmdrc/data/LPR_Long.csv\")\n",
    "\n",
    "LPR = LPRClass(\n",
    "    df = lpr_example,\n",
    "    chemical = \"chemical.id\",\n",
    "    plate = \"plate.id\",\n",
    "    well = \"well\",\n",
    "    concentration = \"conc\",\n",
    "    time = \"variable\",\n",
    "    value = \"value\",\n",
    "    cycle_length = 20.0,\n",
    "    cycle_cooldown = 10.0, \n",
    "    starting_cycle = \"light\"\n",
    ")"
   ]
  },
  {
   "cell_type": "code",
   "execution_count": 3,
   "metadata": {},
   "outputs": [
    {
     "name": "stdout",
     "output_type": "stream",
     "text": [
      "       chemical.id   conc  plate.id well  variable  value      cycle\n",
      "0                2    0.0     20544  H01       0.0  0.000     light1\n",
      "1                2    0.0     20544  H02       0.0    NaN     light1\n",
      "2                2    0.0     20544  H03       0.0    NaN     light1\n",
      "3                2    0.0     20544  H04       0.0  1.083     light1\n",
      "4                2    0.0     20544  H05       0.0  1.608     light1\n",
      "...            ...    ...       ...  ...       ...    ...        ...\n",
      "69115            2  100.0     20625  A08     239.0  0.000  gap_dark4\n",
      "69116            2  100.0     20625  A09     239.0  0.000  gap_dark4\n",
      "69117            2  100.0     20625  A10     239.0  0.000  gap_dark4\n",
      "69118            2  100.0     20625  A11     239.0  8.332  gap_dark4\n",
      "69119            2  100.0     20625  A12     239.0  1.006  gap_dark4\n",
      "\n",
      "[69120 rows x 7 columns]\n"
     ]
    }
   ],
   "source": [
    "print(LPR._df)"
   ]
  },
  {
   "cell_type": "code",
   "execution_count": 4,
   "metadata": {},
   "outputs": [
    {
     "name": "stdout",
     "output_type": "stream",
     "text": [
      "     variable      cycle\n",
      "0         0.0     light1\n",
      "1         1.0     light1\n",
      "2         2.0     light1\n",
      "3         3.0     light1\n",
      "4         4.0     light1\n",
      "..        ...        ...\n",
      "235     235.0  gap_dark4\n",
      "236     236.0  gap_dark4\n",
      "237     237.0  gap_dark4\n",
      "238     238.0  gap_dark4\n",
      "239     239.0  gap_dark4\n",
      "\n",
      "[240 rows x 2 columns]\n"
     ]
    }
   ],
   "source": [
    "print(LPR._cycles)"
   ]
  },
  {
   "cell_type": "code",
   "execution_count": 25,
   "metadata": {},
   "outputs": [],
   "source": [
    "import numpy as np\n",
    "\n",
    "# Group by chemical, concentration, plate, well and time\n",
    "LPR_grouped = LPR._df.groupby(by = [LPR._chemical, LPR._concentration, LPR._plate, LPR._well, LPR._time])\n",
    "\n",
    "# Sum times \n",
    "LPR_sum = LPR_grouped.sum().rename(columns = {LPR._time:\"Sum\"}).reset_index()\n",
    "\n",
    "# Remove times with NA \n",
    "LPR_sum[\"Remove\"] = LPR_grouped.apply(lambda df: any(np.isnan(df[LPR._value]))).reset_index().rename(columns = {0:\"Remove\"})[\"Remove\"]\n",
    "LPR_sum = LPR_sum[LPR_sum[\"Remove\"] == False].drop(columns = [\"Remove\"])"
   ]
  },
  {
   "cell_type": "code",
   "execution_count": 34,
   "metadata": {},
   "outputs": [],
   "source": [
    "# Unique and arrange times \n",
    "cycle_info = pd.DataFrame(LPR._df[LPR._time].unique()).rename({0:LPR._time}, axis = 1)\n",
    "cycle_info[LPR._time] = cycle_info[LPR._time].astype(float)\n",
    "cycle_info = cycle_info.sort_values(by = [LPR._time])\n",
    "\n",
    "# Build cycle names and order. First, define all the needed variables to make this happen\n",
    "cycle_order = []\n",
    "first_count = 0\n",
    "gap_a_count = 0\n",
    "gap_b_count = 0\n",
    "second_count = 0\n",
    "cycle_count = 1\n",
    "if LPR._starting_cycle == \"light\":\n",
    "    other_cycle = \"dark\"\n",
    "else:\n",
    "    other_cycle = \"light\"\n",
    "\n",
    "# Cycle through the light, gap, dark, and then reset\n",
    "for pos in range(len(cycle_info)):\n",
    "    if (first_count < LPR._cycle_length):\n",
    "        cycle_order.append(LPR._starting_cycle + str(cycle_count))\n",
    "        first_count += 1\n",
    "    elif (gap_a_count < LPR._cycle_cooldown):\n",
    "        cycle_order.append(\"gap_\" + LPR._starting_cycle + str(cycle_count))\n",
    "        gap_a_count += 1\n",
    "    elif (second_count < LPR._cycle_length):\n",
    "        cycle_order.append(other_cycle + str(cycle_count))\n",
    "        second_count += 1\n",
    "    elif (gap_b_count < LPR._cycle_cooldown):\n",
    "        cycle_order.append(\"gap_\" + other_cycle + str(cycle_count))\n",
    "        gap_b_count += 1\n",
    "    else:\n",
    "        cycle_count += 1\n",
    "        cycle_order.append(LPR._starting_cycle + str(cycle_count))\n",
    "        first_count = 1\n",
    "        gap_a_count = 0\n",
    "        second_count = 0\n",
    "        gap_b_count = 0\n",
    "    \n",
    "# Add essential order information to cycle_info file\n",
    "cycle_info[\"cycle\"] = cycle_order\n",
    "\n",
    "# Merge with data.frame\n",
    "LPR._df = LPR._df.merge(cycle_info)\n",
    "\n"
   ]
  },
  {
   "cell_type": "code",
   "execution_count": 22,
   "metadata": {},
   "outputs": [
    {
     "data": {
      "text/plain": [
       "<pandas.core.groupby.generic.DataFrameGroupBy object at 0x323ee7c10>"
      ]
     },
     "execution_count": 22,
     "metadata": {},
     "output_type": "execute_result"
    }
   ],
   "source": [
    "# Group by chemical, concentration, plate, and well. \n",
    "LPR_sum_grouped = LPR_sum.groupby(by = [LPR._chemical, LPR._concentration, LPR._plate, LPR._well])\n"
   ]
  }
 ],
 "metadata": {
  "kernelspec": {
   "display_name": "Python 3",
   "language": "python",
   "name": "python3"
  },
  "language_info": {
   "codemirror_mode": {
    "name": "ipython",
    "version": 3
   },
   "file_extension": ".py",
   "mimetype": "text/x-python",
   "name": "python",
   "nbconvert_exporter": "python",
   "pygments_lexer": "ipython3",
   "version": "3.11.7"
  }
 },
 "nbformat": 4,
 "nbformat_minor": 2
}
