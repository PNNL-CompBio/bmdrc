{
 "cells": [
  {
   "cell_type": "code",
   "execution_count": 1,
   "metadata": {},
   "outputs": [],
   "source": [
    "import bmdrc\n",
    "import pandas as pd"
   ]
  },
  {
   "cell_type": "markdown",
   "metadata": {},
   "source": [
    "## Module 1: Input Data Modules \n",
    "\n",
    "##### LPR Class"
   ]
  },
  {
   "cell_type": "code",
   "execution_count": 2,
   "metadata": {},
   "outputs": [],
   "source": [
    "from bmdrc.LPRClass import LPRClass\n",
    "\n",
    "lpr_example = pd.read_csv(\"/Users/degn400/Git_Repos/bmdrc/data/LPR_Long.csv\")\n",
    "\n",
    "LPR = LPRClass(\n",
    "    df = lpr_example,\n",
    "    chemical = \"chemical.id\",\n",
    "    plate = \"plate.id\",\n",
    "    well = \"well\",\n",
    "    concentration = \"conc\",\n",
    "    time = \"variable\",\n",
    "    value = \"value\",\n",
    "    cycle_length = 30.0\n",
    ")"
   ]
  },
  {
   "cell_type": "code",
   "execution_count": 3,
   "metadata": {},
   "outputs": [
    {
     "name": "stdout",
     "output_type": "stream",
     "text": [
      "       chemical.id   conc  plate.id well variable  value\n",
      "0                2    0.0     20544  H01        0  0.000\n",
      "1                2    0.0     20544  H02        0    NaN\n",
      "2                2    0.0     20544  H03        0    NaN\n",
      "3                2    0.0     20544  H04        0  1.083\n",
      "4                2    0.0     20544  H05        0  1.608\n",
      "...            ...    ...       ...  ...      ...    ...\n",
      "69115            2  100.0     20625  A08      239  0.000\n",
      "69116            2  100.0     20625  A09      239  0.000\n",
      "69117            2  100.0     20625  A10      239  0.000\n",
      "69118            2  100.0     20625  A11      239  8.332\n",
      "69119            2  100.0     20625  A12      239  1.006\n",
      "\n",
      "[69120 rows x 6 columns]\n"
     ]
    }
   ],
   "source": [
    "print(LPR._ori_df)"
   ]
  },
  {
   "cell_type": "code",
   "execution_count": 4,
   "metadata": {},
   "outputs": [
    {
     "name": "stdout",
     "output_type": "stream",
     "text": [
      "       chemical.id   conc  plate.id well variable  value\n",
      "0                2    0.0     20544  H01        0  0.000\n",
      "1                2    0.0     20544  H02        0    NaN\n",
      "2                2    0.0     20544  H03        0    NaN\n",
      "3                2    0.0     20544  H04        0  1.083\n",
      "4                2    0.0     20544  H05        0  1.608\n",
      "...            ...    ...       ...  ...      ...    ...\n",
      "69115            2  100.0     20625  A08      239  0.000\n",
      "69116            2  100.0     20625  A09      239  0.000\n",
      "69117            2  100.0     20625  A10      239  0.000\n",
      "69118            2  100.0     20625  A11      239  8.332\n",
      "69119            2  100.0     20625  A12      239  1.006\n",
      "\n",
      "[69120 rows x 6 columns]\n"
     ]
    }
   ],
   "source": []
  }
 ],
 "metadata": {
  "kernelspec": {
   "display_name": "Python 3",
   "language": "python",
   "name": "python3"
  },
  "language_info": {
   "codemirror_mode": {
    "name": "ipython",
    "version": 3
   },
   "file_extension": ".py",
   "mimetype": "text/x-python",
   "name": "python",
   "nbconvert_exporter": "python",
   "pygments_lexer": "ipython3",
   "version": "3.11.7"
  }
 },
 "nbformat": 4,
 "nbformat_minor": 2
}
