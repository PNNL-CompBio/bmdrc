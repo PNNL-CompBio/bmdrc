{
 "cells": [
  {
   "cell_type": "code",
   "execution_count": 1,
   "metadata": {},
   "outputs": [],
   "source": [
    "import bmdrc \n",
    "import pandas as pd"
   ]
  },
  {
   "cell_type": "markdown",
   "metadata": {},
   "source": [
    "## Module 1: Input Data Modules \n",
    "\n",
    "##### Binary Class"
   ]
  },
  {
   "cell_type": "code",
   "execution_count": 3,
   "metadata": {},
   "outputs": [
    {
     "name": "stdout",
     "output_type": "stream",
     "text": [
      "       chemical.id  conc  plate.id well endpoint  value\n",
      "0             3757   0.0     19877  H01     MO24    0.0\n",
      "1             3757   0.0     19877  H02     MO24    0.0\n",
      "2             3757   0.0     19877  H03     MO24    0.0\n",
      "3             3757   0.0     19877  H04     MO24    0.0\n",
      "4             3757   0.0     19877  H05     MO24    0.0\n",
      "...            ...   ...       ...  ...      ...    ...\n",
      "19867         3863  10.0     20637  H08     DNC_    0.0\n",
      "19868         3863  10.0     20637  H09     DNC_    0.0\n",
      "19869         3863  10.0     20637  H10     DNC_    0.0\n",
      "19870         3863  10.0     20637  H11     DNC_    0.0\n",
      "19871         3863  10.0     20637  H12     DNC_    0.0\n",
      "\n",
      "[19872 rows x 6 columns]\n",
      "wide\n",
      "chemical.id\n",
      "plate.id\n",
      "well\n",
      "conc\n",
      "endpoint\n",
      "value\n"
     ]
    }
   ],
   "source": [
    "morpho_example_wide = pd.read_csv(\"/Users/degn400/Git_Repos/bmdrc/data/Binary_Morphology_Wide.csv\")\n",
    "\n",
    "Wide = bmdrc.input_data_classes.BinaryClass(\n",
    "    df = morpho_example_wide,\n",
    "    chemical = \"chemical.id\",\n",
    "    plate = \"plate.id\",\n",
    "    well = \"well\",\n",
    "    concentration = \"conc\",\n",
    "    format = \"wide\"\n",
    ")\n",
    "\n",
    "print(Wide.df)\n",
    "print(Wide.format)\n",
    "print(Wide.chemical)\n",
    "print(Wide.plate)\n",
    "print(Wide.well)\n",
    "print(Wide.concentration)\n",
    "print(Wide.endpoint)\n",
    "print(Wide.value)"
   ]
  },
  {
   "cell_type": "code",
   "execution_count": 8,
   "metadata": {},
   "outputs": [
    {
     "name": "stdout",
     "output_type": "stream",
     "text": [
      "       chemical.id  conc  plate.id well endpoint  value\n",
      "0             3757   0.0     19877  H01     MO24    0.0\n",
      "1             3757   0.0     19877  H02     MO24    0.0\n",
      "2             3757   0.0     19877  H03     MO24    0.0\n",
      "3             3757   0.0     19877  H04     MO24    0.0\n",
      "4             3757   0.0     19877  H05     MO24    0.0\n",
      "...            ...   ...       ...  ...      ...    ...\n",
      "19867         3863  10.0     20637  H08     DNC_    0.0\n",
      "19868         3863  10.0     20637  H09     DNC_    0.0\n",
      "19869         3863  10.0     20637  H10     DNC_    0.0\n",
      "19870         3863  10.0     20637  H11     DNC_    0.0\n",
      "19871         3863  10.0     20637  H12     DNC_    0.0\n",
      "\n",
      "[19872 rows x 6 columns]\n",
      "long\n",
      "chemical.id\n",
      "plate.id\n",
      "well\n",
      "conc\n",
      "endpoint\n",
      "value\n",
      "test\n"
     ]
    }
   ],
   "source": [
    "morpho_example_long = pd.read_csv(\"/Users/degn400/Git_Repos/bmdrc/data/Binary_Morphology_Long.csv\")\n",
    "\n",
    "Long = bmdrc.input_data_classes.BinaryClass(\n",
    "    df = morpho_example_long,\n",
    "    chemical = \"chemical.id\",\n",
    "    plate = \"plate.id\",\n",
    "    well = \"well\",\n",
    "    concentration = \"conc\",\n",
    "    endpoint = \"endpoint\",\n",
    "    value = \"value\"\n",
    ")\n",
    "\n",
    "print(Long.df)\n",
    "print(Long.format)\n",
    "print(Long.chemical)\n",
    "print(Long.plate)\n",
    "print(Long.well)\n",
    "print(Long.concentration)\n",
    "print(Long.endpoint)\n",
    "print(Long.value)"
   ]
  },
  {
   "cell_type": "markdown",
   "metadata": {},
   "source": [
    "## Module 2: Pre-Processing Modules\n",
    "\n",
    "#### Binary Class"
   ]
  }
 ],
 "metadata": {
  "kernelspec": {
   "display_name": "Python 3",
   "language": "python",
   "name": "python3"
  },
  "language_info": {
   "codemirror_mode": {
    "name": "ipython",
    "version": 3
   },
   "file_extension": ".py",
   "mimetype": "text/x-python",
   "name": "python",
   "nbconvert_exporter": "python",
   "pygments_lexer": "ipython3",
   "version": "3.10.5"
  },
  "orig_nbformat": 4
 },
 "nbformat": 4,
 "nbformat_minor": 2
}
